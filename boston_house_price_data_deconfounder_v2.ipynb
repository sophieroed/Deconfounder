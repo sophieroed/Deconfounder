{
 "cells": [
  {
   "cell_type": "markdown",
   "id": "eb4b5efc",
   "metadata": {},
   "source": [
    "## Boston House Prices Dataset"
   ]
  },
  {
   "cell_type": "markdown",
   "id": "a74b127b",
   "metadata": {},
   "source": [
    "Install tensorflow and tensorflow_probability if necessary:"
   ]
  },
  {
   "cell_type": "code",
   "execution_count": 1,
   "id": "d1852f75",
   "metadata": {},
   "outputs": [],
   "source": [
    "#!pip install tensorflow\n",
    "#!pip install tensorflow_probability"
   ]
  },
  {
   "cell_type": "code",
   "execution_count": 2,
   "id": "4f1d2e50",
   "metadata": {},
   "outputs": [],
   "source": [
    "import utils_deconfounder\n",
    "from utils_deconfounder import *\n"
   ]
  },
  {
   "cell_type": "markdown",
   "id": "0d365a38",
   "metadata": {},
   "source": [
    "Check that it is the correct version of tf (v. 2.5 or at least 2.0 is needed in this project):"
   ]
  },
  {
   "cell_type": "code",
   "execution_count": 3,
   "id": "6c3e8d46",
   "metadata": {},
   "outputs": [
    {
     "name": "stdout",
     "output_type": "stream",
     "text": [
      "Name: tensorflow\n",
      "Version: 2.5.0\n",
      "Summary: TensorFlow is an open source machine learning framework for everyone.\n",
      "Home-page: https://www.tensorflow.org/\n",
      "Author: Google Inc.\n",
      "Author-email: packages@tensorflow.org\n",
      "License: Apache 2.0\n",
      "Location: /Users/sophieroed/anaconda3/lib/python3.8/site-packages\n",
      "Requires: google-pasta, wrapt, tensorboard, absl-py, protobuf, grpcio, numpy, wheel, opt-einsum, astunparse, h5py, keras-preprocessing, flatbuffers, typing-extensions, keras-nightly, termcolor, six, tensorflow-estimator, gast\n",
      "Required-by: \n",
      "Name: tensorflow-probability\n",
      "Version: 0.13.0\n",
      "Summary: Probabilistic modeling and statistical inference in TensorFlow\n",
      "Home-page: http://github.com/tensorflow/probability\n",
      "Author: Google LLC\n",
      "Author-email: no-reply@google.com\n",
      "License: Apache 2.0\n",
      "Location: /Users/sophieroed/anaconda3/lib/python3.8/site-packages\n",
      "Requires: decorator, six, gast, numpy, dm-tree, cloudpickle\n",
      "Required-by: \n"
     ]
    }
   ],
   "source": [
    "!pip show tensorflow\n",
    "!pip show tensorflow_probability"
   ]
  },
  {
   "cell_type": "markdown",
   "id": "73fe98d6",
   "metadata": {},
   "source": [
    "Set a random seed:"
   ]
  },
  {
   "cell_type": "code",
   "execution_count": 4,
   "id": "ad7ebf43",
   "metadata": {
    "scrolled": true
   },
   "outputs": [
    {
     "name": "stdout",
     "output_type": "stream",
     "text": [
      "random seed:  1789\n"
     ]
    }
   ],
   "source": [
    "randseed = 1789\n",
    "print(\"random seed: \", randseed)\n",
    "random.seed(randseed)\n",
    "np.random.seed(randseed)\n",
    "tf.random.set_seed(randseed)"
   ]
  },
  {
   "cell_type": "markdown",
   "id": "2b3cd3d6",
   "metadata": {},
   "source": [
    "## Data"
   ]
  },
  {
   "cell_type": "code",
   "execution_count": 5,
   "id": "74fcefc6",
   "metadata": {},
   "outputs": [],
   "source": [
    "from sklearn.datasets import load_boston"
   ]
  },
  {
   "cell_type": "code",
   "execution_count": 6,
   "id": "39efa4a4",
   "metadata": {},
   "outputs": [],
   "source": [
    "data = load_boston()"
   ]
  },
  {
   "cell_type": "markdown",
   "id": "41164d78",
   "metadata": {},
   "source": [
    "It is possible to choose some of the features to work with if one has some knowlegde about, which are most relevant as causes; here we have chosen all:"
   ]
  },
  {
   "cell_type": "code",
   "execution_count": 7,
   "id": "a81ca26b",
   "metadata": {},
   "outputs": [],
   "source": [
    "num_fea = 13\n",
    "df = pd.DataFrame(data[\"data\"][:,:num_fea], columns=data[\"feature_names\"][:num_fea])"
   ]
  },
  {
   "cell_type": "code",
   "execution_count": 8,
   "id": "17f35d49",
   "metadata": {},
   "outputs": [
    {
     "data": {
      "text/plain": [
       "(506, 13)"
      ]
     },
     "execution_count": 8,
     "metadata": {},
     "output_type": "execute_result"
    }
   ],
   "source": [
    "df.shape"
   ]
  },
  {
   "cell_type": "code",
   "execution_count": 9,
   "id": "bc1b7b27",
   "metadata": {},
   "outputs": [
    {
     "data": {
      "text/html": [
       "<div>\n",
       "<style scoped>\n",
       "    .dataframe tbody tr th:only-of-type {\n",
       "        vertical-align: middle;\n",
       "    }\n",
       "\n",
       "    .dataframe tbody tr th {\n",
       "        vertical-align: top;\n",
       "    }\n",
       "\n",
       "    .dataframe thead th {\n",
       "        text-align: right;\n",
       "    }\n",
       "</style>\n",
       "<table border=\"1\" class=\"dataframe\">\n",
       "  <thead>\n",
       "    <tr style=\"text-align: right;\">\n",
       "      <th></th>\n",
       "      <th>CRIM</th>\n",
       "      <th>ZN</th>\n",
       "      <th>INDUS</th>\n",
       "      <th>CHAS</th>\n",
       "      <th>NOX</th>\n",
       "      <th>RM</th>\n",
       "      <th>AGE</th>\n",
       "      <th>DIS</th>\n",
       "      <th>RAD</th>\n",
       "      <th>TAX</th>\n",
       "      <th>PTRATIO</th>\n",
       "      <th>B</th>\n",
       "      <th>LSTAT</th>\n",
       "    </tr>\n",
       "  </thead>\n",
       "  <tbody>\n",
       "    <tr>\n",
       "      <th>0</th>\n",
       "      <td>0.00632</td>\n",
       "      <td>18.0</td>\n",
       "      <td>2.31</td>\n",
       "      <td>0.0</td>\n",
       "      <td>0.538</td>\n",
       "      <td>6.575</td>\n",
       "      <td>65.2</td>\n",
       "      <td>4.0900</td>\n",
       "      <td>1.0</td>\n",
       "      <td>296.0</td>\n",
       "      <td>15.3</td>\n",
       "      <td>396.90</td>\n",
       "      <td>4.98</td>\n",
       "    </tr>\n",
       "    <tr>\n",
       "      <th>1</th>\n",
       "      <td>0.02731</td>\n",
       "      <td>0.0</td>\n",
       "      <td>7.07</td>\n",
       "      <td>0.0</td>\n",
       "      <td>0.469</td>\n",
       "      <td>6.421</td>\n",
       "      <td>78.9</td>\n",
       "      <td>4.9671</td>\n",
       "      <td>2.0</td>\n",
       "      <td>242.0</td>\n",
       "      <td>17.8</td>\n",
       "      <td>396.90</td>\n",
       "      <td>9.14</td>\n",
       "    </tr>\n",
       "    <tr>\n",
       "      <th>2</th>\n",
       "      <td>0.02729</td>\n",
       "      <td>0.0</td>\n",
       "      <td>7.07</td>\n",
       "      <td>0.0</td>\n",
       "      <td>0.469</td>\n",
       "      <td>7.185</td>\n",
       "      <td>61.1</td>\n",
       "      <td>4.9671</td>\n",
       "      <td>2.0</td>\n",
       "      <td>242.0</td>\n",
       "      <td>17.8</td>\n",
       "      <td>392.83</td>\n",
       "      <td>4.03</td>\n",
       "    </tr>\n",
       "    <tr>\n",
       "      <th>3</th>\n",
       "      <td>0.03237</td>\n",
       "      <td>0.0</td>\n",
       "      <td>2.18</td>\n",
       "      <td>0.0</td>\n",
       "      <td>0.458</td>\n",
       "      <td>6.998</td>\n",
       "      <td>45.8</td>\n",
       "      <td>6.0622</td>\n",
       "      <td>3.0</td>\n",
       "      <td>222.0</td>\n",
       "      <td>18.7</td>\n",
       "      <td>394.63</td>\n",
       "      <td>2.94</td>\n",
       "    </tr>\n",
       "    <tr>\n",
       "      <th>4</th>\n",
       "      <td>0.06905</td>\n",
       "      <td>0.0</td>\n",
       "      <td>2.18</td>\n",
       "      <td>0.0</td>\n",
       "      <td>0.458</td>\n",
       "      <td>7.147</td>\n",
       "      <td>54.2</td>\n",
       "      <td>6.0622</td>\n",
       "      <td>3.0</td>\n",
       "      <td>222.0</td>\n",
       "      <td>18.7</td>\n",
       "      <td>396.90</td>\n",
       "      <td>5.33</td>\n",
       "    </tr>\n",
       "  </tbody>\n",
       "</table>\n",
       "</div>"
      ],
      "text/plain": [
       "      CRIM    ZN  INDUS  CHAS    NOX     RM   AGE     DIS  RAD    TAX  \\\n",
       "0  0.00632  18.0   2.31   0.0  0.538  6.575  65.2  4.0900  1.0  296.0   \n",
       "1  0.02731   0.0   7.07   0.0  0.469  6.421  78.9  4.9671  2.0  242.0   \n",
       "2  0.02729   0.0   7.07   0.0  0.469  7.185  61.1  4.9671  2.0  242.0   \n",
       "3  0.03237   0.0   2.18   0.0  0.458  6.998  45.8  6.0622  3.0  222.0   \n",
       "4  0.06905   0.0   2.18   0.0  0.458  7.147  54.2  6.0622  3.0  222.0   \n",
       "\n",
       "   PTRATIO       B  LSTAT  \n",
       "0     15.3  396.90   4.98  \n",
       "1     17.8  396.90   9.14  \n",
       "2     17.8  392.83   4.03  \n",
       "3     18.7  394.63   2.94  \n",
       "4     18.7  396.90   5.33  "
      ]
     },
     "execution_count": 9,
     "metadata": {},
     "output_type": "execute_result"
    }
   ],
   "source": [
    "df.head()"
   ]
  },
  {
   "cell_type": "code",
   "execution_count": 10,
   "id": "4b67fbde",
   "metadata": {},
   "outputs": [],
   "source": [
    "dfy = data[\"target\"]"
   ]
  },
  {
   "cell_type": "markdown",
   "id": "5bda4105",
   "metadata": {},
   "source": [
    "We note that the outcome variable is real:"
   ]
  },
  {
   "cell_type": "code",
   "execution_count": 11,
   "id": "3e3a567f",
   "metadata": {},
   "outputs": [
    {
     "data": {
      "text/plain": [
       "((506,),\n",
       " array([24. , 21.6, 34.7, 33.4, 36.2, 28.7, 22.9, 27.1, 16.5, 18.9, 15. ,\n",
       "        18.9, 21.7, 20.4, 18.2, 19.9, 23.1, 17.5, 20.2, 18.2]))"
      ]
     },
     "execution_count": 11,
     "metadata": {},
     "output_type": "execute_result"
    }
   ],
   "source": [
    "dfy.shape, dfy[:20] "
   ]
  },
  {
   "cell_type": "markdown",
   "id": "a31acb62",
   "metadata": {},
   "source": [
    "We will omit the highly correlated causes: \"If two causes are highly correlated, a valid substitute confounder will largely inflate the variance of causal estimates downstream.\" See \"a note on overlap\" in the paper by Wang and Blei (2019).\n",
    "\n",
    "We omit these much correlated causes by considering the scatter plots and removing based solely on these plots. The code for the plot is commented out as it takes a while to run it.\n",
    "\n",
    "From the plot we see that all features are not too correlated and in all categorical variables, there are enought observations in each category. In conclusion, we do not omit any features.\n"
   ]
  },
  {
   "cell_type": "code",
   "execution_count": 12,
   "id": "196294b5",
   "metadata": {},
   "outputs": [],
   "source": [
    "#sns.pairplot(df, height=1.5)"
   ]
  },
  {
   "cell_type": "code",
   "execution_count": null,
   "id": "e2eefcd8",
   "metadata": {},
   "outputs": [],
   "source": []
  },
  {
   "cell_type": "markdown",
   "id": "fb3fa131",
   "metadata": {},
   "source": [
    "The data ultimately have the following shape and we print the first rows of the dataset:"
   ]
  },
  {
   "cell_type": "code",
   "execution_count": 13,
   "id": "87d9fbe8",
   "metadata": {},
   "outputs": [
    {
     "name": "stdout",
     "output_type": "stream",
     "text": [
      "(506, 13) (506,)\n"
     ]
    }
   ],
   "source": [
    "dfX = pd.DataFrame(df)\n",
    "\n",
    "print(dfX.shape, dfy.shape)"
   ]
  },
  {
   "cell_type": "code",
   "execution_count": 14,
   "id": "682d693d",
   "metadata": {},
   "outputs": [
    {
     "data": {
      "text/html": [
       "<div>\n",
       "<style scoped>\n",
       "    .dataframe tbody tr th:only-of-type {\n",
       "        vertical-align: middle;\n",
       "    }\n",
       "\n",
       "    .dataframe tbody tr th {\n",
       "        vertical-align: top;\n",
       "    }\n",
       "\n",
       "    .dataframe thead th {\n",
       "        text-align: right;\n",
       "    }\n",
       "</style>\n",
       "<table border=\"1\" class=\"dataframe\">\n",
       "  <thead>\n",
       "    <tr style=\"text-align: right;\">\n",
       "      <th></th>\n",
       "      <th>CRIM</th>\n",
       "      <th>ZN</th>\n",
       "      <th>INDUS</th>\n",
       "      <th>CHAS</th>\n",
       "      <th>NOX</th>\n",
       "      <th>RM</th>\n",
       "      <th>AGE</th>\n",
       "      <th>DIS</th>\n",
       "      <th>RAD</th>\n",
       "      <th>TAX</th>\n",
       "      <th>PTRATIO</th>\n",
       "      <th>B</th>\n",
       "      <th>LSTAT</th>\n",
       "    </tr>\n",
       "  </thead>\n",
       "  <tbody>\n",
       "    <tr>\n",
       "      <th>0</th>\n",
       "      <td>0.00632</td>\n",
       "      <td>18.0</td>\n",
       "      <td>2.31</td>\n",
       "      <td>0.0</td>\n",
       "      <td>0.538</td>\n",
       "      <td>6.575</td>\n",
       "      <td>65.2</td>\n",
       "      <td>4.0900</td>\n",
       "      <td>1.0</td>\n",
       "      <td>296.0</td>\n",
       "      <td>15.3</td>\n",
       "      <td>396.90</td>\n",
       "      <td>4.98</td>\n",
       "    </tr>\n",
       "    <tr>\n",
       "      <th>1</th>\n",
       "      <td>0.02731</td>\n",
       "      <td>0.0</td>\n",
       "      <td>7.07</td>\n",
       "      <td>0.0</td>\n",
       "      <td>0.469</td>\n",
       "      <td>6.421</td>\n",
       "      <td>78.9</td>\n",
       "      <td>4.9671</td>\n",
       "      <td>2.0</td>\n",
       "      <td>242.0</td>\n",
       "      <td>17.8</td>\n",
       "      <td>396.90</td>\n",
       "      <td>9.14</td>\n",
       "    </tr>\n",
       "    <tr>\n",
       "      <th>2</th>\n",
       "      <td>0.02729</td>\n",
       "      <td>0.0</td>\n",
       "      <td>7.07</td>\n",
       "      <td>0.0</td>\n",
       "      <td>0.469</td>\n",
       "      <td>7.185</td>\n",
       "      <td>61.1</td>\n",
       "      <td>4.9671</td>\n",
       "      <td>2.0</td>\n",
       "      <td>242.0</td>\n",
       "      <td>17.8</td>\n",
       "      <td>392.83</td>\n",
       "      <td>4.03</td>\n",
       "    </tr>\n",
       "    <tr>\n",
       "      <th>3</th>\n",
       "      <td>0.03237</td>\n",
       "      <td>0.0</td>\n",
       "      <td>2.18</td>\n",
       "      <td>0.0</td>\n",
       "      <td>0.458</td>\n",
       "      <td>6.998</td>\n",
       "      <td>45.8</td>\n",
       "      <td>6.0622</td>\n",
       "      <td>3.0</td>\n",
       "      <td>222.0</td>\n",
       "      <td>18.7</td>\n",
       "      <td>394.63</td>\n",
       "      <td>2.94</td>\n",
       "    </tr>\n",
       "    <tr>\n",
       "      <th>4</th>\n",
       "      <td>0.06905</td>\n",
       "      <td>0.0</td>\n",
       "      <td>2.18</td>\n",
       "      <td>0.0</td>\n",
       "      <td>0.458</td>\n",
       "      <td>7.147</td>\n",
       "      <td>54.2</td>\n",
       "      <td>6.0622</td>\n",
       "      <td>3.0</td>\n",
       "      <td>222.0</td>\n",
       "      <td>18.7</td>\n",
       "      <td>396.90</td>\n",
       "      <td>5.33</td>\n",
       "    </tr>\n",
       "  </tbody>\n",
       "</table>\n",
       "</div>"
      ],
      "text/plain": [
       "      CRIM    ZN  INDUS  CHAS    NOX     RM   AGE     DIS  RAD    TAX  \\\n",
       "0  0.00632  18.0   2.31   0.0  0.538  6.575  65.2  4.0900  1.0  296.0   \n",
       "1  0.02731   0.0   7.07   0.0  0.469  6.421  78.9  4.9671  2.0  242.0   \n",
       "2  0.02729   0.0   7.07   0.0  0.469  7.185  61.1  4.9671  2.0  242.0   \n",
       "3  0.03237   0.0   2.18   0.0  0.458  6.998  45.8  6.0622  3.0  222.0   \n",
       "4  0.06905   0.0   2.18   0.0  0.458  7.147  54.2  6.0622  3.0  222.0   \n",
       "\n",
       "   PTRATIO       B  LSTAT  \n",
       "0     15.3  396.90   4.98  \n",
       "1     17.8  396.90   9.14  \n",
       "2     17.8  392.83   4.03  \n",
       "3     18.7  394.63   2.94  \n",
       "4     18.7  396.90   5.33  "
      ]
     },
     "execution_count": 14,
     "metadata": {},
     "output_type": "execute_result"
    }
   ],
   "source": [
    "dfX.head()"
   ]
  },
  {
   "cell_type": "markdown",
   "id": "c1e4b5bd",
   "metadata": {},
   "source": [
    "## Standerdize data and make train/ validation split"
   ]
  },
  {
   "cell_type": "markdown",
   "id": "bc3f7126",
   "metadata": {},
   "source": [
    "We standardize the data (not required in the deconfounder).\n",
    "\n",
    "And then we hold out some data for the posterior predictive model check."
   ]
  },
  {
   "cell_type": "code",
   "execution_count": 15,
   "id": "bdfd8a24",
   "metadata": {},
   "outputs": [],
   "source": [
    "X = np.array((dfX - dfX.mean())/dfX.std()) # Standardize"
   ]
  },
  {
   "cell_type": "markdown",
   "id": "77ea6b31",
   "metadata": {},
   "source": [
    "If we whiten the data for the PICA LVM the model does not pass the model check using PPC:"
   ]
  },
  {
   "cell_type": "code",
   "execution_count": 16,
   "id": "108680ef",
   "metadata": {},
   "outputs": [],
   "source": [
    "\n",
    "#from scipy import linalg\n",
    "#\n",
    "#xc = dfX - np.mean(dfX, axis=0)\n",
    "#\n",
    "#print('xc.shape:', xc.shape, '\\n')\n",
    "#\n",
    "## Calculate covariance matrix\n",
    "#xcov = np.cov(xc, rowvar=True, bias=True)\n",
    "#print('Covariance matrix: \\n', xcov, '\\n')\n",
    "# \n",
    "## Calculate Eigenvalues and Eigenvectors\n",
    "#w, v = linalg.eig(xcov)\n",
    "## Note: Use w.real.round(4) to (1) remove 'j' notation to real, (2) round to '4' significant digits\n",
    "#print(\"Eigenvalues:\\n\", w.real.round(4), '\\n')\n",
    "#print(\"Eigenvectors:\\n\", v, '\\n')\n",
    "# \n",
    "## Calculate inverse square root of Eigenvalues\n",
    "## Optional: Add '.1e5' to avoid division errors if needed\n",
    "## Create a diagonal matrix\n",
    "#diagw = np.diag(1/(w**0.5)) # or np.diag(1/((w+.1e-5)**0.5))\n",
    "#diagw = diagw.real.round(4) #convert to real and round off\n",
    "#print(\"Diagonal matrix for inverse square root of Eigenvalues:\\n\", diagw, '\\n')\n",
    "# \n",
    "## Calculate Rotation (optional)\n",
    "## Note: To see how data can be rotated\n",
    "#xrot = np.dot(v, xc)\n",
    "# \n",
    "## Whitening transform using PCA (Principal Component Analysis)\n",
    "#X = np.dot(np.dot(diagw, v.T), xc)"
   ]
  },
  {
   "cell_type": "markdown",
   "id": "d9a82de0",
   "metadata": {},
   "source": [
    "Train / validation split:"
   ]
  },
  {
   "cell_type": "code",
   "execution_count": 17,
   "id": "e57c3c4a",
   "metadata": {},
   "outputs": [],
   "source": [
    "num_datapoints, data_dim = X.shape\n",
    "\n",
    "holdout_portion = 0.2\n",
    "\n",
    "n_holdout = int(holdout_portion * num_datapoints * data_dim)\n",
    "\n",
    "holdout_row = np.random.randint(num_datapoints, size=n_holdout)\n",
    "holdout_col = np.random.randint(data_dim, size=n_holdout)\n",
    "\n",
    "holdout_mask = (sparse.coo_matrix((np.ones(n_holdout),     #The data (ones) in any order\n",
    "                            (holdout_row, holdout_col)),   # Indices of which rows and columns the data needs to be placed\n",
    "                            shape = X.shape)).toarray()    # the shape of the entire matrix in which the data needs to be placed and other entries left empty\n",
    "\n",
    "holdout_subjects = np.unique(holdout_row)\n",
    "#print(holdout_mask)\n",
    "holdout_mask = np.minimum(1, holdout_mask)                  # There were some repetitions, which also needs to be one\n",
    "\n",
    "x_train = np.multiply(1-holdout_mask, X)\n",
    "x_vad = np.multiply(holdout_mask, X)"
   ]
  },
  {
   "cell_type": "markdown",
   "id": "484dbf21",
   "metadata": {},
   "source": [
    "## Fit latent variable model: PPCA"
   ]
  },
  {
   "cell_type": "markdown",
   "id": "10f5e28c",
   "metadata": {},
   "source": [
    "The model is defined and fitted using variational inference and the functions for this is found in the file \"ultils_deconfounder.py\"."
   ]
  },
  {
   "cell_type": "code",
   "execution_count": 18,
   "id": "e7460609",
   "metadata": {
    "scrolled": true
   },
   "outputs": [
    {
     "name": "stdout",
     "output_type": "stream",
     "text": [
      "WARNING:tensorflow:From /Users/sophieroed/anaconda3/lib/python3.8/site-packages/tensorflow/python/ops/array_ops.py:5043: calling gather (from tensorflow.python.ops.array_ops) with validate_indices is deprecated and will be removed in a future version.\n",
      "Instructions for updating:\n",
      "The `validate_indices` argument has no effect. Indices are always validated on CPU and never validated on GPU.\n"
     ]
    }
   ],
   "source": [
    "model_ppca, surrogate_posterior_ppca, w_mean_ppca, w_stddv_ppca, z_mean_ppca, z_stddv_ppca, losses_ppca = fit_ppca(x_train = x_train,\n",
    "                                                                                                                   latent_dim = 3,\n",
    "                                                                                                                   mask = 1-holdout_mask,\n",
    "                                                                                                                  stddv_datapoints = 0.5)"
   ]
  },
  {
   "cell_type": "code",
   "execution_count": 19,
   "id": "f6a684e2",
   "metadata": {
    "scrolled": true
   },
   "outputs": [
    {
     "data": {
      "image/png": "[encoded data removed]",
      "text/plain": [
       "<Figure size 432x288 with 1 Axes>"
      ]
     },
     "metadata": {},
     "output_type": "display_data"
    }
   ],
   "source": [
    "#print(\"Inferred parameters, W:\")\n",
    "#print(w_mean)\n",
    "#print(\"Standard Deviation of inferred parameters, W:\")\n",
    "#print(w_stddv)\n",
    "\n",
    "plt.plot(losses_ppca)\n",
    "#plt.ylim(0,200000)\n",
    "plt.xlabel(\"Number of optimization steps\")\n",
    "plt.ylabel(\"Value of loss function: -ELBO\")\n",
    "plt.title(\"PPCA Variational Inference Optimization\")\n",
    "plt.show()\n",
    "\n",
    "#beingsaved = plt.figure()\n",
    "#plt.plot(losses_ppca)\n",
    "#plt.xlabel(\"Number of optimization steps\")\n",
    "#plt.ylabel(\"Value of loss function: -ELBO\")\n",
    "#plt.title(\"PPCA Variational Inference Optimization\")\n",
    "#beingsaved.savefig('ppca_vi_loss_plot.eps', format='eps', dpi=1200)\n"
   ]
  },
  {
   "cell_type": "markdown",
   "id": "6aa55b1a",
   "metadata": {},
   "source": [
    "## Posterior Predictive Checks: PPCA"
   ]
  },
  {
   "cell_type": "markdown",
   "id": "745bd75f",
   "metadata": {},
   "source": [
    "The fitness of the model is checked and the functions for this is found in the file \"ultils_deconfounder.py\".\n",
    "\n",
    "n_rep is the number of replicated datasets we generate and n_eval is the number of samples drawn from Z and W. "
   ]
  },
  {
   "cell_type": "code",
   "execution_count": 20,
   "id": "12fa51a6",
   "metadata": {},
   "outputs": [
    {
     "name": "stdout",
     "output_type": "stream",
     "text": [
      "WARNING:tensorflow:Note that RandomStandardNormal inside pfor op may not give same output as inside a sequential loop.\n",
      "WARNING:tensorflow:Note that RandomStandardNormal inside pfor op may not give same output as inside a sequential loop.\n",
      "WARNING:tensorflow:Note that RandomStandardNormal inside pfor op may not give same output as inside a sequential loop.\n",
      "Predictive check p-value (PPCA) 0.34468817204301083\n"
     ]
    }
   ],
   "source": [
    "overall_pval_ppca, holdout_subjects, rep_ll_per_zi_ppca, obs_ll_per_zi_ppca = ppc_ppca(x_train = x_train, \n",
    "                                                                                       x_vad = x_vad,\n",
    "                                                                                       mask = holdout_mask,\n",
    "                                                                                       holdout_row = holdout_row,\n",
    "                                                                                       model = model_ppca, \n",
    "                                                                                       surrogate_posterior = surrogate_posterior_ppca,\n",
    "                                                                                       w_mean = w_mean_ppca,\n",
    "                                                                                       w_stddv = w_stddv_ppca,\n",
    "                                                                                       z_mean = z_mean_ppca,\n",
    "                                                                                       z_stddv = z_stddv_ppca,\n",
    "                                                                                       stddv_datapoints = 0.5)\n",
    "\n",
    "print(\"Predictive check p-value (PPCA)\", overall_pval_ppca)"
   ]
  },
  {
   "cell_type": "markdown",
   "id": "71c5e26c",
   "metadata": {},
   "source": [
    "Predictive check graph for random subject:"
   ]
  },
  {
   "cell_type": "code",
   "execution_count": 21,
   "id": "72a951a2",
   "metadata": {
    "scrolled": true
   },
   "outputs": [
    {
     "data": {
      "text/plain": [
       "<matplotlib.lines.Line2D at 0x7fec1c951d60>"
      ]
     },
     "execution_count": 21,
     "metadata": {},
     "output_type": "execute_result"
    },
    {
     "data": {
      "image/png": "[encoded data removed]",
      "text/plain": [
       "<Figure size 432x288 with 1 Axes>"
      ]
     },
     "metadata": {},
     "output_type": "display_data"
    }
   ],
   "source": [
    "subject_no = npr.choice(holdout_subjects) \n",
    "sns.kdeplot(rep_ll_per_zi_ppca[:,subject_no]).set_title(\"Predictive check for subject \"+str(subject_no))\n",
    "plt.axvline(x=obs_ll_per_zi_ppca[subject_no], linestyle='--')\n",
    "\n"
   ]
  },
  {
   "cell_type": "code",
   "execution_count": 22,
   "id": "6c26b18a",
   "metadata": {},
   "outputs": [],
   "source": [
    "#beingsaved = plt.figure()\n",
    "#sns.kdeplot(rep_ll_per_zi_ppca[:,subject_no]).set_title(\"PPCA: Predictive check for subject \"+str(subject_no))\n",
    "#plt.axvline(x=obs_ll_per_zi_ppca[subject_no], linestyle='--')\n",
    "#beingsaved.savefig('ppc_random_subject_plot.eps', format='eps', dpi=1200)\n"
   ]
  },
  {
   "cell_type": "markdown",
   "id": "308836fe",
   "metadata": {},
   "source": [
    "## Fit latent variable model: PICA (with Laplacian prior)"
   ]
  },
  {
   "cell_type": "markdown",
   "id": "810c4928",
   "metadata": {},
   "source": [
    "The model is defined and fitted using variational inference and the functions for this is found in the file \"ultils_deconfounder.py\"."
   ]
  },
  {
   "cell_type": "code",
   "execution_count": 23,
   "id": "e882fbb4",
   "metadata": {},
   "outputs": [],
   "source": [
    "model_pica, surrogate_posterior_pica, w_mean_pica, w_stddv_pica, z_mean_pica, z_stddv_pica, losses_pica = fit_pica(x_train = x_train,\n",
    "                                                                                                                   latent_dim = 3,\n",
    "                                                                                                                   mask = 1-holdout_mask,\n",
    "                                                                                                                   stddv_datapoints = 0.5)"
   ]
  },
  {
   "cell_type": "code",
   "execution_count": 24,
   "id": "9ec11f51",
   "metadata": {},
   "outputs": [
    {
     "data": {
      "image/png": "[encoded data removed]",
      "text/plain": [
       "<Figure size 432x288 with 1 Axes>"
      ]
     },
     "metadata": {},
     "output_type": "display_data"
    }
   ],
   "source": [
    "plt.plot(losses_pica)\n",
    "plt.xlabel(\"Number of optimization steps\")\n",
    "plt.ylabel(\"Value of loss function: -ELBO\")\n",
    "plt.title(\"PICA Variational Inference Optimization\")\n",
    "plt.show()\n",
    "\n",
    "#beingsaved = plt.figure()\n",
    "#plt.plot(losses_pica)\n",
    "#plt.xlabel(\"Number of optimization steps\")\n",
    "#plt.ylabel(\"Value of loss function: -ELBO\")\n",
    "#plt.title(\"PICA Variational Inference Optimization\")\n",
    "#beingsaved.savefig('pica_vi_loss_plot.eps', format='eps', dpi=1200)\n"
   ]
  },
  {
   "cell_type": "markdown",
   "id": "ce2b75d1",
   "metadata": {},
   "source": [
    "## Posterior Predictive Checks: PICA"
   ]
  },
  {
   "cell_type": "markdown",
   "id": "c42e7261",
   "metadata": {},
   "source": [
    "The fitness of the model is checked and the functions for this is found in the file \"ultils_deconfounder.py\".\n",
    "\n",
    "n_rep is the number of replicated datasets we generate and n_eval is the number of samples drawn from Z and W. "
   ]
  },
  {
   "cell_type": "code",
   "execution_count": 25,
   "id": "cda6736d",
   "metadata": {},
   "outputs": [
    {
     "name": "stdout",
     "output_type": "stream",
     "text": [
      "WARNING:tensorflow:Note that RandomStandardNormal inside pfor op may not give same output as inside a sequential loop.\n",
      "WARNING:tensorflow:Note that RandomStandardNormal inside pfor op may not give same output as inside a sequential loop.\n",
      "WARNING:tensorflow:Note that RandomStandardNormal inside pfor op may not give same output as inside a sequential loop.\n",
      "Predictive check p-value (PICA) 0.359247311827957\n"
     ]
    }
   ],
   "source": [
    "overall_pval_pica, holdout_subjects, rep_ll_per_zi_pica, obs_ll_per_zi_pica = ppc_pica(x_train = x_train, \n",
    "                                                                                       x_vad = x_vad,\n",
    "                                                                                       mask = holdout_mask,\n",
    "                                                                                       holdout_row = holdout_row,\n",
    "                                                                                       model = model_pica, \n",
    "                                                                                       surrogate_posterior = surrogate_posterior_pica,\n",
    "                                                                                       w_mean = w_mean_pica,\n",
    "                                                                                       w_stddv = w_stddv_pica,\n",
    "                                                                                       z_mean = z_mean_pica,\n",
    "                                                                                       z_stddv = z_stddv_pica,\n",
    "                                                                                       stddv_datapoints = 0.5)\n",
    "\n",
    "print(\"Predictive check p-value (PICA)\", overall_pval_pica)"
   ]
  },
  {
   "cell_type": "markdown",
   "id": "a0958dd3",
   "metadata": {},
   "source": [
    "Predictive check graph for random subject:"
   ]
  },
  {
   "cell_type": "code",
   "execution_count": 26,
   "id": "00e45d0e",
   "metadata": {},
   "outputs": [],
   "source": [
    "#subject_no = npr.choice(holdout_subjects) \n",
    "#sns.kdeplot(rep_ll_per_zi_pica[:,subject_no]).set_title(\"Predictive check for subject \"+str(subject_no))\n",
    "#plt.axvline(x=obs_ll_per_zi_pica[subject_no], linestyle='--')"
   ]
  },
  {
   "cell_type": "markdown",
   "id": "4ef40fbe",
   "metadata": {},
   "source": [
    "## Fit Latent Variable Model: Bayesian GMM\n",
    "\n",
    "First: Make a class that inherits the attribbutes from tfd.TransformedDistribubtion such that we can e.g. use the method sample from this distribution. \n",
    "\n",
    "The `joint_log_prob` function:\n",
    "\n",
    "Args:\n",
    "    observations: `[n, d]`-shaped `Tensor` representing Bayesian Gaussian\n",
    "      Mixture model draws. Each sample is a length-`d` vector.\n",
    "    mix_probs: `[K]`-shaped `Tensor` representing random draw from\n",
    "      `Dirichlet` prior.\n",
    "    loc: `[K, d]`-shaped `Tensor` representing the location parameter of the\n",
    "      `K` components.\n",
    "    chol_precision: `[K, d, d]`-shaped `Tensor` representing `K` lower\n",
    "      triangular `cholesky(Precision)` matrices, each being sampled from\n",
    "      a Wishart distribution.\n",
    "\n",
    "  Returns:\n",
    "    log_prob: `Tensor` representing joint log-density over all inputs.\n",
    "\n",
    "Precision is the inverse covariance, therefore we take the inverse of the precision in order to get the covaraince matrix. I.e. instead of dividing with the covariance, we multiply with the precision. \n",
    "\n",
    "arg.max is to find the indices of the maximum values such that we have an estimate of which of the K normal distributions the observation belongs/ is assigned to. Why we take the max, we shall explain in a second.\n",
    "\n",
    "Ultimately z_post is and $N \\times 1$ matrix.\n",
    "\n",
    "Not sure why we take the log of the mixture probabilities and substract the remaining...\n",
    "BECAUSE we have\n",
    "\n",
    "$$\\log(\\theta_{\\text{mean}}) - \\sum_{M}\\frac{(x_{\\text{train}}-\\mu_{\\text{mean}})^2}{\\sigma^2_{\\text{mean}}},$$\n",
    "\n",
    "here the first part is the estimated mixture probabilities, which are minus something when log is taken. The second part is the one we wish to be as small as possible and when substarcting the second part, we wish to find the maximum value - i.e. the one with the smallest second term. The indices (of K possible) hereof are the estimates of the latent variables. \n",
    "\n",
    "Explore the bandedness of T by using a cholesky decomposition, where L in LL^T is lower triangular. Therefore, remember that in the Gaussian distribution, we do not use the cholesky lower triangular as scale but the precision inversed en square root..."
   ]
  },
  {
   "cell_type": "code",
   "execution_count": 27,
   "id": "5865e2ea",
   "metadata": {},
   "outputs": [],
   "source": [
    "%%capture \n",
    "z_post, mu_post, pi_post, precision_post, sigma_post, acceptance_rate = fit_gmm(x_train = x_train, components = 3);"
   ]
  },
  {
   "cell_type": "code",
   "execution_count": 28,
   "id": "1e745fdc",
   "metadata": {},
   "outputs": [
    {
     "data": {
      "text/plain": [
       "0.546"
      ]
     },
     "execution_count": 28,
     "metadata": {},
     "output_type": "execute_result"
    }
   ],
   "source": [
    "acceptance_rate"
   ]
  },
  {
   "cell_type": "markdown",
   "id": "049db570",
   "metadata": {},
   "source": [
    "Graph of three HMC chains samples of the (one out of five) mixture probability, the figure is presented in the project:"
   ]
  },
  {
   "cell_type": "code",
   "execution_count": 29,
   "id": "0c30eb10",
   "metadata": {},
   "outputs": [],
   "source": [
    "#z_post, mu_post, pi_post, precision_post, sigma_post, acceptance_rate, is_accepted, mix_probs1, mix_probs2, mix_probs3 = fit_gmm2(x_train = x_train, components = 5)"
   ]
  },
  {
   "cell_type": "code",
   "execution_count": 30,
   "id": "668eb002",
   "metadata": {},
   "outputs": [],
   "source": [
    "#plt.plot(mix_probs1[:,1], color=\"blue\")\n",
    "#plt.plot(mix_probs2[:,0], color=\"lightgreen\")\n",
    "#plt.plot(mix_probs3[:,4], color=\"orange\")\n",
    "#plt.xlabel(\"Steps\")\n",
    "#plt.ylabel(\"Mixture probability\")\n",
    "#plt.title(\"Three HMC chain samples of one of the mixture probabilities\")\n",
    "#plt.show\n",
    "#\n",
    "##beingsaved = plt.figure()\n",
    "##plt.plot(mix_probs1[:,1], color=\"blue\")\n",
    "##plt.plot(mix_probs2[:,0], color=\"lightgreen\")\n",
    "##plt.plot(mix_probs3[:,4], color=\"orange\")\n",
    "##plt.xlabel(\"Steps\")\n",
    "##plt.ylabel(\"Mixture probability\")\n",
    "##plt.title(\"Three HMC chain samples of one mixture probability\")\n",
    "##\n",
    "##beingsaved.savefig('hmc_chain_plot.eps', format='eps', dpi=1200)\n",
    "\n"
   ]
  },
  {
   "cell_type": "markdown",
   "id": "57be5b8b",
   "metadata": {},
   "source": [
    "## Posterior Predictive Checks: GMM"
   ]
  },
  {
   "cell_type": "code",
   "execution_count": 31,
   "id": "9711572d",
   "metadata": {},
   "outputs": [],
   "source": [
    "overall_pval_gmm = ppc_gmm(x_train = x_train, \n",
    "                           x_vad = x_vad,\n",
    "                           components = 3, \n",
    "                           holdout_mask = holdout_mask,\n",
    "                           z_post = z_post,\n",
    "                           mu_post = mu_post,\n",
    "                           pi_post = pi_post,\n",
    "                           sigma_post = sigma_post,\n",
    "                           n_rep = 100, \n",
    "                           n_eval = 100)"
   ]
  },
  {
   "cell_type": "code",
   "execution_count": 32,
   "id": "2e67ce20",
   "metadata": {},
   "outputs": [
    {
     "name": "stdout",
     "output_type": "stream",
     "text": [
      "Predictive check p-value (GMM) 0.46307692307692305\n"
     ]
    }
   ],
   "source": [
    "print(\"Predictive check p-value (GMM)\", overall_pval_gmm)"
   ]
  },
  {
   "cell_type": "markdown",
   "id": "6623688f",
   "metadata": {},
   "source": [
    "## Fit Latent Variable Model: DLGM (with sigmoid activation function)\n"
   ]
  },
  {
   "cell_type": "markdown",
   "id": "23edac3b",
   "metadata": {},
   "source": [
    "Define model:"
   ]
  },
  {
   "cell_type": "code",
   "execution_count": 33,
   "id": "80231664",
   "metadata": {},
   "outputs": [],
   "source": [
    "model_dlgm, surrogate_posterior_dlgm, w0_mean_dlgm, w0_stddv_dlgm, z0_mean_dlgm, z0_stddv_dlgm, losses_dlgm = fit_dlgm(x_train = x_train,\n",
    "                                                                                                                      prior_stddv_datapoints = 1,\n",
    "                                                                                                                      K = [5, 3, 2])    "
   ]
  },
  {
   "cell_type": "code",
   "execution_count": 34,
   "id": "a335b4e2",
   "metadata": {},
   "outputs": [
    {
     "data": {
      "image/png": "[encoded data removed]",
      "text/plain": [
       "<Figure size 432x288 with 1 Axes>"
      ]
     },
     "metadata": {},
     "output_type": "display_data"
    }
   ],
   "source": [
    "plt.plot(losses_dlgm)\n",
    "plt.xlabel(\"Number of optimization steps\")\n",
    "plt.ylabel(\"Value of loss function: -ELBO\")\n",
    "plt.title(\"DLGM Variational Inference Optimization\")\n",
    "plt.show()\n",
    "\n",
    "#beingsaved = plt.figure()\n",
    "#plt.plot(losses_dlgm)\n",
    "#plt.xlabel(\"Number of optimization steps\")\n",
    "#plt.ylabel(\"Value of loss function: -ELBO\")\n",
    "#plt.title(\"DLGM Variational Inference Optimization\")\n",
    "#beingsaved.savefig('dlgm_vi_loss_plot.eps', format='eps', dpi=1200)\n",
    "\n",
    "\n"
   ]
  },
  {
   "cell_type": "markdown",
   "id": "fa2f4ed3",
   "metadata": {},
   "source": [
    "# Posterior Predictive Checks: DLGM"
   ]
  },
  {
   "cell_type": "code",
   "execution_count": 35,
   "id": "7631c456",
   "metadata": {},
   "outputs": [
    {
     "name": "stdout",
     "output_type": "stream",
     "text": [
      "Predictive check p-value (DLGM) 0.4580430107526882\n"
     ]
    }
   ],
   "source": [
    "overall_pval_dlgm, holdout_subjects_dlgm, rep_ll_per_zi_dlgm, obs_ll_per_zi_dlgm = ppc_dlgm(x_train = x_train,\n",
    "                                                                                            x_vad = x_vad,\n",
    "                                                                                            mask = holdout_mask,\n",
    "                                                                                            holdout_row = holdout_row,\n",
    "                                                                                            model = model_dlgm, \n",
    "                                                                                            surrogate_posterior = surrogate_posterior_dlgm,\n",
    "                                                                                            w0_mean = w0_mean_dlgm,\n",
    "                                                                                            w0_stddv = w0_stddv_dlgm,\n",
    "                                                                                            z0_mean = z0_mean_dlgm,\n",
    "                                                                                            z0_stddv = z0_stddv_dlgm,\n",
    "                                                                                           stddv_datapoints = 1)\n",
    "\n",
    "print(\"Predictive check p-value (DLGM)\", overall_pval_dlgm)"
   ]
  },
  {
   "cell_type": "markdown",
   "id": "6cf1f51c",
   "metadata": {},
   "source": [
    "## Fit Latent Variable Model: PMF (omitted because it did not pass the model check)"
   ]
  },
  {
   "cell_type": "code",
   "execution_count": 36,
   "id": "a9ec1e79",
   "metadata": {},
   "outputs": [],
   "source": [
    "#model_pmf, surrogate_posterior_pmf, w_conc_pmf, w_rate_pmf, z_conc_pmf, z_rate_pmf, losses_pmf = fit_pmf(x_train = x_train, latent_dim = 3, mask = 1-holdout_mask, gamma_prior = 0.1)"
   ]
  },
  {
   "cell_type": "code",
   "execution_count": 37,
   "id": "abffb865",
   "metadata": {},
   "outputs": [],
   "source": [
    "#overall_pval_pmf, holdout_subjects_pmf, rep_ll_per_zi_pmf, obs_ll_per_zi_pmf = ppc_dlgm(x_train = x_train,\n",
    "#                                                                                            x_vad = x_vad,\n",
    "#                                                                                            mask = holdout_mask,\n",
    "#                                                                                            holdout_row = holdout_row,\n",
    "#                                                                                            model = model_pmf, \n",
    "#                                                                                            surrogate_posterior = surrogate_posterior_pmf,\n",
    "#                                                                                            w_mean = w_conc_pmf,\n",
    "#                                                                                            w_stddv = w_rate_pmf,\n",
    "#                                                                                            z_mean = z_conc_pmf,\n",
    "#                                                                                            z_stddv = z_rate_pmf)\n",
    "#\n",
    "#print(\"Predictive check p-value (PMF)\", overall_pval_pmf)"
   ]
  },
  {
   "cell_type": "markdown",
   "id": "1cddd3d4",
   "metadata": {},
   "source": [
    "## Causal inference with estimated latent variables as substitue confounders"
   ]
  },
  {
   "cell_type": "markdown",
   "id": "2e402d32",
   "metadata": {},
   "source": [
    "We fit a linear regression model as the outcome model as a simple model and consequence of real outcome variables. I.e. the target is $Y_i$ for $i = 1,...,N$ and the regressors are the multiple causes used in the LVMs, $X_i$ for $i = 1,...,N$. Lastly, we correct for the estimated substitue confounder, $Z_i$ for $i = 1,...,N$, by including it into the regressors. Note that we could take a finite set of the causes in order to ensure positivity in causal inference and therefore, we could omit one of the causes used in the LVMs. However, we shall not do so since the number of causes are already finite. "
   ]
  },
  {
   "cell_type": "markdown",
   "id": "78797a0b",
   "metadata": {},
   "source": [
    "## PPCA\n",
    "\n",
    "We approximate with the inferred mean the random variables, $Z$, that are substitue confounders and augment the regressors into a gathered dataset."
   ]
  },
  {
   "cell_type": "code",
   "execution_count": 38,
   "id": "6e4fe9ed",
   "metadata": {},
   "outputs": [],
   "source": [
    "from sklearn import linear_model\n",
    "from sklearn.metrics import mean_squared_error, r2_score\n",
    "\n",
    "\n",
    "def fit_causal_model_OLS(X, dfy, dfX_causal_inf, z_mean, data_dim_causal_inf):\n",
    "    \n",
    "    z_hat_ppca = z_mean\n",
    "    X_aug_ppca = np.column_stack([X, z_hat_ppca])\n",
    "    \n",
    "    X_train_ppca, X_test_ppca, y_train_ppca, y_test_ppca = train_test_split(X_aug_ppca, \n",
    "                                                                            dfy, \n",
    "                                                                            test_size=0.2, \n",
    "                                                                            random_state=0)\n",
    "    \n",
    "    dcf_ppca_X_train = sm.add_constant(X_train_ppca)\n",
    "    dcf_ppca_ols_model = sm.OLS(y_train_ppca, dcf_ppca_X_train)\n",
    "    dcf_ppca_result = dcf_ppca_ols_model.fit(maxiter=5000)\n",
    "    \n",
    "    \n",
    "    res = pd.DataFrame({\"causal_mean\": dcf_ppca_result.params[:data_dim_causal_inf+1], \\\n",
    "                  \"causal_std\": dcf_ppca_result.bse[:data_dim_causal_inf+1], \\\n",
    "                  \"causal_025\": dcf_ppca_result.conf_int()[:data_dim_causal_inf+1,0], \\\n",
    "                  \"causal_975\": dcf_ppca_result.conf_int()[:data_dim_causal_inf+1,1], \\\n",
    "                   \"causal_pval\": dcf_ppca_result.pvalues[:data_dim_causal_inf+1]})\n",
    "    res[\"causal_sig\"] = (res[\"causal_pval\"] < 0.05)\n",
    "    res = res.T\n",
    "    res.columns = np.concatenate([[\"intercept\"], np.array(dfX_causal_inf.columns)])\n",
    "    res = res.T\n",
    "    \n",
    "    regr_ppca = linear_model.LinearRegression()\n",
    "    lm_ppca = regr_ppca.fit(X_train_ppca, y_train_ppca)\n",
    "    y_pred_ppca = lm_ppca.predict(X_test_ppca)\n",
    "    \n",
    "    mse_ppca = mean_squared_error(y_test_ppca, y_pred_ppca) # MSE = (sum((y-predictions)**2))/(len(newX)-len(newX[0]))\n",
    "    r2_score_ppca = r2_score(y_test_ppca, y_pred_ppca)\n",
    "\n",
    "    nodcfX_train = sm.add_constant(X_train_ppca[:,:X.shape[1]])\n",
    "    nodcfols_model = sm.OLS(y_train_ppca, nodcfX_train)\n",
    "    nodcfresult = nodcfols_model.fit(maxiter=5000)\n",
    "\n",
    "    res[\"noncausal_mean\"] = np.array(nodcfresult.params)\n",
    "    res[\"noncausal_std\"] = np.array(nodcfresult.bse)\n",
    "    res[\"noncausal_025\"] = np.array(nodcfresult.conf_int()[:,0])\n",
    "    res[\"noncausal_975\"] = np.array(nodcfresult.conf_int()[:,1])\n",
    "    res[\"noncausal_pval\"] = np.array(nodcfresult.pvalues)\n",
    "    res[\"noncausal_sig\"] = (res[\"noncausal_pval\"] < 0.05)\n",
    "\n",
    "    res[\"diff\"] = res[\"causal_mean\"] - res[\"noncausal_mean\"]\n",
    "    res[\"pval_diff\"] = res[\"causal_pval\"] - res[\"noncausal_pval\"]\n",
    "    \n",
    "    regr_nodcf = linear_model.LinearRegression()\n",
    "    lm_nodcf = regr_nodcf.fit(X_train_ppca[:,:X.shape[1]], y_train_ppca)\n",
    "    y_pred_nodcf = lm_nodcf.predict(X_test_ppca[:,:X.shape[1]])\n",
    "    \n",
    "    mse_nodcf = mean_squared_error(y_test_ppca, y_pred_nodcf) # MSE = (sum((y-predictions)**2))/(len(newX)-len(newX[0]))\n",
    "    r2_score_nodcf = r2_score(y_test_ppca, y_pred_nodcf)\n",
    "    \n",
    "    return dcf_ppca_result, nodcfresult, res, y_pred_ppca, y_pred_nodcf, mse_ppca, mse_nodcf, r2_score_ppca, r2_score_nodcf, y_test_ppca"
   ]
  },
  {
   "cell_type": "code",
   "execution_count": 39,
   "id": "ecc25b39",
   "metadata": {},
   "outputs": [],
   "source": [
    "dcf_ppca_result, nodcfresult, res_ppca, y_pred_ppca, y_pred, mse_ppca, mse_nodcf, r2_score_ppca, r2_score_nodcf, y_test_ppca = fit_causal_model_OLS(X = X, \n",
    "                                                                                                                                  dfy = dfy,\n",
    "                                                                                                                                  dfX_causal_inf = dfX,\n",
    "                                                                                                                                  z_mean = z_mean_ppca,\n",
    "                                                                                                                                  data_dim_causal_inf = data_dim) "
   ]
  },
  {
   "cell_type": "code",
   "execution_count": 40,
   "id": "9d4e5f85",
   "metadata": {},
   "outputs": [
    {
     "name": "stdout",
     "output_type": "stream",
     "text": [
      "                            OLS Regression Results                            \n",
      "==============================================================================\n",
      "Dep. Variable:                      y   R-squared:                       0.776\n",
      "Model:                            OLS   Adj. R-squared:                  0.767\n",
      "Method:                 Least Squares   F-statistic:                     83.78\n",
      "Date:                Sun, 05 Sep 2021   Prob (F-statistic):          7.66e-115\n",
      "Time:                        16:07:13   Log-Likelihood:                -1168.8\n",
      "No. Observations:                 404   AIC:                             2372.\n",
      "Df Residuals:                     387   BIC:                             2440.\n",
      "Df Model:                          16                                         \n",
      "Covariance Type:            nonrobust                                         \n",
      "==============================================================================\n",
      "                 coef    std err          t      P>|t|      [0.025      0.975]\n",
      "------------------------------------------------------------------------------\n",
      "const         22.4593      0.224    100.098      0.000      22.018      22.900\n",
      "x1            -1.0865      0.435     -2.499      0.013      -1.941      -0.232\n",
      "x2             1.3166      0.442      2.981      0.003       0.448       2.185\n",
      "x3            -0.1358      0.484     -0.280      0.779      -1.088       0.816\n",
      "x4             0.9653      0.392      2.464      0.014       0.195       1.736\n",
      "x5            -1.9489      0.579     -3.365      0.001      -3.088      -0.810\n",
      "x6             3.4469      0.530      6.502      0.000       2.405       4.489\n",
      "x7            -0.3455      0.488     -0.707      0.480      -1.306       0.615\n",
      "x8            -2.7407      0.546     -5.018      0.000      -3.815      -1.667\n",
      "x9             1.9966      0.700      2.853      0.005       0.621       3.372\n",
      "x10           -2.0230      0.720     -2.810      0.005      -3.438      -0.608\n",
      "x11           -2.7392      0.370     -7.397      0.000      -3.467      -2.011\n",
      "x12            0.6914      0.426      1.625      0.105      -0.145       1.528\n",
      "x13           -4.0289      0.450     -8.960      0.000      -4.913      -3.145\n",
      "x14           -0.1646      0.850     -0.194      0.847      -1.837       1.508\n",
      "x15           -1.9752      1.610     -1.227      0.221      -5.140       1.190\n",
      "x16            1.2978      0.818      1.587      0.113      -0.310       2.906\n",
      "==============================================================================\n",
      "Omnibus:                      129.684   Durbin-Watson:                   1.989\n",
      "Prob(Omnibus):                  0.000   Jarque-Bera (JB):              486.260\n",
      "Skew:                           1.398   Prob(JB):                    2.57e-106\n",
      "Kurtosis:                       7.590   Cond. No.                         21.2\n",
      "==============================================================================\n",
      "\n",
      "Notes:\n",
      "[1] Standard Errors assume that the covariance matrix of the errors is correctly specified.\n"
     ]
    }
   ],
   "source": [
    "print(dcf_ppca_result.summary())"
   ]
  },
  {
   "cell_type": "code",
   "execution_count": 41,
   "id": "ea2713dd",
   "metadata": {},
   "outputs": [
    {
     "name": "stdout",
     "output_type": "stream",
     "text": [
      "                            OLS Regression Results                            \n",
      "==============================================================================\n",
      "Dep. Variable:                      y   R-squared:                       0.773\n",
      "Model:                            OLS   Adj. R-squared:                  0.765\n",
      "Method:                 Least Squares   F-statistic:                     102.2\n",
      "Date:                Sun, 05 Sep 2021   Prob (F-statistic):          9.64e-117\n",
      "Time:                        16:07:13   Log-Likelihood:                -1171.5\n",
      "No. Observations:                 404   AIC:                             2371.\n",
      "Df Residuals:                     390   BIC:                             2427.\n",
      "Df Model:                          13                                         \n",
      "Covariance Type:            nonrobust                                         \n",
      "==============================================================================\n",
      "                 coef    std err          t      P>|t|      [0.025      0.975]\n",
      "------------------------------------------------------------------------------\n",
      "const         22.4804      0.224    100.452      0.000      22.040      22.920\n",
      "x1            -1.0274      0.315     -3.257      0.001      -1.647      -0.407\n",
      "x2             1.0444      0.337      3.102      0.002       0.382       1.706\n",
      "x3             0.0376      0.435      0.087      0.931      -0.818       0.893\n",
      "x4             0.5946      0.229      2.595      0.010       0.144       1.045\n",
      "x5            -1.8684      0.488     -3.828      0.000      -2.828      -0.909\n",
      "x6             2.6058      0.321      8.106      0.000       1.974       3.238\n",
      "x7            -0.0879      0.403     -0.218      0.828      -0.881       0.705\n",
      "x8            -2.9194      0.451     -6.480      0.000      -3.805      -2.034\n",
      "x9             2.1261      0.611      3.481      0.001       0.925       3.327\n",
      "x10           -1.8522      0.657     -2.819      0.005      -3.144      -0.560\n",
      "x11           -2.2644      0.297     -7.636      0.000      -2.847      -1.681\n",
      "x12            0.7404      0.269      2.749      0.006       0.211       1.270\n",
      "x13           -3.5191      0.387     -9.086      0.000      -4.281      -2.758\n",
      "==============================================================================\n",
      "Omnibus:                      141.494   Durbin-Watson:                   1.996\n",
      "Prob(Omnibus):                  0.000   Jarque-Bera (JB):              629.882\n",
      "Skew:                           1.470   Prob(JB):                    1.67e-137\n",
      "Kurtosis:                       8.365   Cond. No.                         9.75\n",
      "==============================================================================\n",
      "\n",
      "Notes:\n",
      "[1] Standard Errors assume that the covariance matrix of the errors is correctly specified.\n"
     ]
    }
   ],
   "source": [
    "print(nodcfresult.summary())"
   ]
  },
  {
   "cell_type": "code",
   "execution_count": 42,
   "id": "40650d7b",
   "metadata": {},
   "outputs": [
    {
     "data": {
      "text/html": [
       "<div>\n",
       "<style scoped>\n",
       "    .dataframe tbody tr th:only-of-type {\n",
       "        vertical-align: middle;\n",
       "    }\n",
       "\n",
       "    .dataframe tbody tr th {\n",
       "        vertical-align: top;\n",
       "    }\n",
       "\n",
       "    .dataframe thead th {\n",
       "        text-align: right;\n",
       "    }\n",
       "</style>\n",
       "<table border=\"1\" class=\"dataframe\">\n",
       "  <thead>\n",
       "    <tr style=\"text-align: right;\">\n",
       "      <th></th>\n",
       "      <th>pval_diff</th>\n",
       "      <th>causal_pval</th>\n",
       "      <th>noncausal_pval</th>\n",
       "      <th>causal_sig</th>\n",
       "      <th>noncausal_sig</th>\n",
       "      <th>causal_mean</th>\n",
       "      <th>noncausal_mean</th>\n",
       "    </tr>\n",
       "  </thead>\n",
       "  <tbody>\n",
       "    <tr>\n",
       "      <th>AGE</th>\n",
       "      <td>-0.347878</td>\n",
       "      <td>0.479807</td>\n",
       "      <td>8.276851e-01</td>\n",
       "      <td>False</td>\n",
       "      <td>False</td>\n",
       "      <td>-0.345467</td>\n",
       "      <td>-0.087855</td>\n",
       "    </tr>\n",
       "    <tr>\n",
       "      <th>INDUS</th>\n",
       "      <td>-0.151798</td>\n",
       "      <td>0.779307</td>\n",
       "      <td>9.311050e-01</td>\n",
       "      <td>False</td>\n",
       "      <td>False</td>\n",
       "      <td>-0.135807</td>\n",
       "      <td>0.037631</td>\n",
       "    </tr>\n",
       "    <tr>\n",
       "      <th>intercept</th>\n",
       "      <td>0.0</td>\n",
       "      <td>0.0</td>\n",
       "      <td>7.880479e-281</td>\n",
       "      <td>True</td>\n",
       "      <td>True</td>\n",
       "      <td>22.459346</td>\n",
       "      <td>22.480353</td>\n",
       "    </tr>\n",
       "    <tr>\n",
       "      <th>LSTAT</th>\n",
       "      <td>0.0</td>\n",
       "      <td>0.0</td>\n",
       "      <td>5.257076e-18</td>\n",
       "      <td>True</td>\n",
       "      <td>True</td>\n",
       "      <td>-4.028856</td>\n",
       "      <td>-3.519063</td>\n",
       "    </tr>\n",
       "    <tr>\n",
       "      <th>PTRATIO</th>\n",
       "      <td>0.0</td>\n",
       "      <td>0.0</td>\n",
       "      <td>1.747353e-13</td>\n",
       "      <td>True</td>\n",
       "      <td>True</td>\n",
       "      <td>-2.739162</td>\n",
       "      <td>-2.264362</td>\n",
       "    </tr>\n",
       "    <tr>\n",
       "      <th>RM</th>\n",
       "      <td>0.0</td>\n",
       "      <td>0.0</td>\n",
       "      <td>6.837385e-15</td>\n",
       "      <td>True</td>\n",
       "      <td>True</td>\n",
       "      <td>3.446869</td>\n",
       "      <td>2.605803</td>\n",
       "    </tr>\n",
       "    <tr>\n",
       "      <th>DIS</th>\n",
       "      <td>0.000001</td>\n",
       "      <td>0.000001</td>\n",
       "      <td>2.771759e-10</td>\n",
       "      <td>True</td>\n",
       "      <td>True</td>\n",
       "      <td>-2.740743</td>\n",
       "      <td>-2.919351</td>\n",
       "    </tr>\n",
       "    <tr>\n",
       "      <th>TAX</th>\n",
       "      <td>0.000144</td>\n",
       "      <td>0.005205</td>\n",
       "      <td>5.061523e-03</td>\n",
       "      <td>True</td>\n",
       "      <td>True</td>\n",
       "      <td>-2.022986</td>\n",
       "      <td>-1.852162</td>\n",
       "    </tr>\n",
       "    <tr>\n",
       "      <th>NOX</th>\n",
       "      <td>0.000691</td>\n",
       "      <td>0.000841</td>\n",
       "      <td>1.503121e-04</td>\n",
       "      <td>True</td>\n",
       "      <td>True</td>\n",
       "      <td>-1.948916</td>\n",
       "      <td>-1.868366</td>\n",
       "    </tr>\n",
       "    <tr>\n",
       "      <th>ZN</th>\n",
       "      <td>0.000991</td>\n",
       "      <td>0.003052</td>\n",
       "      <td>2.060526e-03</td>\n",
       "      <td>True</td>\n",
       "      <td>True</td>\n",
       "      <td>1.316598</td>\n",
       "      <td>1.044378</td>\n",
       "    </tr>\n",
       "    <tr>\n",
       "      <th>RAD</th>\n",
       "      <td>0.004002</td>\n",
       "      <td>0.004559</td>\n",
       "      <td>5.570378e-04</td>\n",
       "      <td>True</td>\n",
       "      <td>True</td>\n",
       "      <td>1.996598</td>\n",
       "      <td>2.126124</td>\n",
       "    </tr>\n",
       "    <tr>\n",
       "      <th>CHAS</th>\n",
       "      <td>0.004355</td>\n",
       "      <td>0.014181</td>\n",
       "      <td>9.826245e-03</td>\n",
       "      <td>True</td>\n",
       "      <td>True</td>\n",
       "      <td>0.96525</td>\n",
       "      <td>0.594550</td>\n",
       "    </tr>\n",
       "    <tr>\n",
       "      <th>CRIM</th>\n",
       "      <td>0.011654</td>\n",
       "      <td>0.012877</td>\n",
       "      <td>1.222501e-03</td>\n",
       "      <td>True</td>\n",
       "      <td>True</td>\n",
       "      <td>-1.086483</td>\n",
       "      <td>-1.027398</td>\n",
       "    </tr>\n",
       "    <tr>\n",
       "      <th>B</th>\n",
       "      <td>0.098726</td>\n",
       "      <td>0.104989</td>\n",
       "      <td>6.263236e-03</td>\n",
       "      <td>False</td>\n",
       "      <td>True</td>\n",
       "      <td>0.691444</td>\n",
       "      <td>0.740411</td>\n",
       "    </tr>\n",
       "  </tbody>\n",
       "</table>\n",
       "</div>"
      ],
      "text/plain": [
       "          pval_diff causal_pval  noncausal_pval causal_sig  noncausal_sig  \\\n",
       "AGE       -0.347878    0.479807    8.276851e-01      False          False   \n",
       "INDUS     -0.151798    0.779307    9.311050e-01      False          False   \n",
       "intercept       0.0         0.0   7.880479e-281       True           True   \n",
       "LSTAT           0.0         0.0    5.257076e-18       True           True   \n",
       "PTRATIO         0.0         0.0    1.747353e-13       True           True   \n",
       "RM              0.0         0.0    6.837385e-15       True           True   \n",
       "DIS        0.000001    0.000001    2.771759e-10       True           True   \n",
       "TAX        0.000144    0.005205    5.061523e-03       True           True   \n",
       "NOX        0.000691    0.000841    1.503121e-04       True           True   \n",
       "ZN         0.000991    0.003052    2.060526e-03       True           True   \n",
       "RAD        0.004002    0.004559    5.570378e-04       True           True   \n",
       "CHAS       0.004355    0.014181    9.826245e-03       True           True   \n",
       "CRIM       0.011654    0.012877    1.222501e-03       True           True   \n",
       "B          0.098726    0.104989    6.263236e-03      False           True   \n",
       "\n",
       "          causal_mean  noncausal_mean  \n",
       "AGE         -0.345467       -0.087855  \n",
       "INDUS       -0.135807        0.037631  \n",
       "intercept   22.459346       22.480353  \n",
       "LSTAT       -4.028856       -3.519063  \n",
       "PTRATIO     -2.739162       -2.264362  \n",
       "RM           3.446869        2.605803  \n",
       "DIS         -2.740743       -2.919351  \n",
       "TAX         -2.022986       -1.852162  \n",
       "NOX         -1.948916       -1.868366  \n",
       "ZN           1.316598        1.044378  \n",
       "RAD          1.996598        2.126124  \n",
       "CHAS          0.96525        0.594550  \n",
       "CRIM        -1.086483       -1.027398  \n",
       "B            0.691444        0.740411  "
      ]
     },
     "execution_count": 42,
     "metadata": {},
     "output_type": "execute_result"
    }
   ],
   "source": [
    "res_ppca.sort_values(\"pval_diff\", ascending=True)[[\"pval_diff\", \"causal_pval\", \"noncausal_pval\", \"causal_sig\", \"noncausal_sig\", \"causal_mean\", \"noncausal_mean\"]]"
   ]
  },
  {
   "cell_type": "code",
   "execution_count": 43,
   "id": "c6087b87",
   "metadata": {
    "scrolled": true
   },
   "outputs": [
    {
     "name": "stdout",
     "output_type": "stream",
     "text": [
      "MSE for deconfounding with PPCA: 32.71851797486853\n",
      "MSE for classical linear regression without deconfounding: 33.44897999767657\n",
      "R^2 for deconfounding with PPCA: 0.598192985745472\n",
      "R^2 for classical linear regression without deconfounding: 0.5892223849182503\n"
     ]
    }
   ],
   "source": [
    "print(\"MSE for deconfounding with PPCA:\", mse_ppca)\n",
    "print(\"MSE for classical linear regression without deconfounding:\", mse_nodcf)\n",
    "print(\"R^2 for deconfounding with PPCA:\", r2_score_ppca)\n",
    "print(\"R^2 for classical linear regression without deconfounding:\", r2_score_nodcf)"
   ]
  },
  {
   "cell_type": "markdown",
   "id": "eae07e45",
   "metadata": {},
   "source": [
    "## PICA\n",
    "\n",
    "We approximate with the inferred mean the random variables, $Z$, that are substitue confounders and augment the regressors into a gathered dataset."
   ]
  },
  {
   "cell_type": "code",
   "execution_count": 44,
   "id": "b479eeff",
   "metadata": {},
   "outputs": [],
   "source": [
    "dcf_pica_result, nodcfresult, res_pica, y_pred_pica, y_pred, mse_pica, mse_nodcf, r2_score_pica, r2_score_nodcf, y_test_pica = fit_causal_model_OLS(X = X, \n",
    "                                                                                                                                  dfy = dfy,\n",
    "                                                                                                                                  dfX_causal_inf = dfX,\n",
    "                                                                                                                                  z_mean = z_mean_pica,\n",
    "                                                                                                                                  data_dim_causal_inf = data_dim) "
   ]
  },
  {
   "cell_type": "code",
   "execution_count": 45,
   "id": "3dc399dc",
   "metadata": {},
   "outputs": [
    {
     "name": "stdout",
     "output_type": "stream",
     "text": [
      "                            OLS Regression Results                            \n",
      "==============================================================================\n",
      "Dep. Variable:                      y   R-squared:                       0.775\n",
      "Model:                            OLS   Adj. R-squared:                  0.765\n",
      "Method:                 Least Squares   F-statistic:                     83.16\n",
      "Date:                Sun, 05 Sep 2021   Prob (F-statistic):          2.30e-114\n",
      "Time:                        16:07:14   Log-Likelihood:                -1170.0\n",
      "No. Observations:                 404   AIC:                             2374.\n",
      "Df Residuals:                     387   BIC:                             2442.\n",
      "Df Model:                          16                                         \n",
      "Covariance Type:            nonrobust                                         \n",
      "==============================================================================\n",
      "                 coef    std err          t      P>|t|      [0.025      0.975]\n",
      "------------------------------------------------------------------------------\n",
      "const         22.4904      0.224    100.325      0.000      22.050      22.931\n",
      "x1            -1.0472      0.436     -2.405      0.017      -1.904      -0.191\n",
      "x2             1.3424      0.442      3.039      0.003       0.474       2.211\n",
      "x3            -0.1121      0.478     -0.234      0.815      -1.052       0.828\n",
      "x4             0.8370      0.395      2.117      0.035       0.060       1.614\n",
      "x5            -1.9955      0.565     -3.529      0.000      -3.107      -0.884\n",
      "x6             3.2093      0.496      6.472      0.000       2.234       4.184\n",
      "x7            -0.3228      0.466     -0.692      0.489      -1.239       0.594\n",
      "x8            -2.6771      0.542     -4.938      0.000      -3.743      -1.611\n",
      "x9             2.0703      0.675      3.066      0.002       0.743       3.398\n",
      "x10           -1.9167      0.711     -2.696      0.007      -3.315      -0.519\n",
      "x11           -2.5500      0.366     -6.970      0.000      -3.269      -1.831\n",
      "x12            0.6765      0.416      1.627      0.105      -0.141       1.494\n",
      "x13           -3.9369      0.460     -8.560      0.000      -4.841      -3.033\n",
      "x14            0.4991      0.634      0.787      0.432      -0.748       1.747\n",
      "x15           -0.2568      0.700     -0.367      0.714      -1.632       1.119\n",
      "x16           -1.5918      1.306     -1.218      0.224      -4.160       0.977\n",
      "==============================================================================\n",
      "Omnibus:                      134.565   Durbin-Watson:                   1.988\n",
      "Prob(Omnibus):                  0.000   Jarque-Bera (JB):              528.464\n",
      "Skew:                           1.437   Prob(JB):                    1.76e-115\n",
      "Kurtosis:                       7.810   Cond. No.                         18.0\n",
      "==============================================================================\n",
      "\n",
      "Notes:\n",
      "[1] Standard Errors assume that the covariance matrix of the errors is correctly specified.\n"
     ]
    }
   ],
   "source": [
    "print(dcf_pica_result.summary())"
   ]
  },
  {
   "cell_type": "code",
   "execution_count": 46,
   "id": "f89fd51f",
   "metadata": {},
   "outputs": [
    {
     "name": "stdout",
     "output_type": "stream",
     "text": [
      "                            OLS Regression Results                            \n",
      "==============================================================================\n",
      "Dep. Variable:                      y   R-squared:                       0.773\n",
      "Model:                            OLS   Adj. R-squared:                  0.765\n",
      "Method:                 Least Squares   F-statistic:                     102.2\n",
      "Date:                Sun, 05 Sep 2021   Prob (F-statistic):          9.64e-117\n",
      "Time:                        16:07:14   Log-Likelihood:                -1171.5\n",
      "No. Observations:                 404   AIC:                             2371.\n",
      "Df Residuals:                     390   BIC:                             2427.\n",
      "Df Model:                          13                                         \n",
      "Covariance Type:            nonrobust                                         \n",
      "==============================================================================\n",
      "                 coef    std err          t      P>|t|      [0.025      0.975]\n",
      "------------------------------------------------------------------------------\n",
      "const         22.4804      0.224    100.452      0.000      22.040      22.920\n",
      "x1            -1.0274      0.315     -3.257      0.001      -1.647      -0.407\n",
      "x2             1.0444      0.337      3.102      0.002       0.382       1.706\n",
      "x3             0.0376      0.435      0.087      0.931      -0.818       0.893\n",
      "x4             0.5946      0.229      2.595      0.010       0.144       1.045\n",
      "x5            -1.8684      0.488     -3.828      0.000      -2.828      -0.909\n",
      "x6             2.6058      0.321      8.106      0.000       1.974       3.238\n",
      "x7            -0.0879      0.403     -0.218      0.828      -0.881       0.705\n",
      "x8            -2.9194      0.451     -6.480      0.000      -3.805      -2.034\n",
      "x9             2.1261      0.611      3.481      0.001       0.925       3.327\n",
      "x10           -1.8522      0.657     -2.819      0.005      -3.144      -0.560\n",
      "x11           -2.2644      0.297     -7.636      0.000      -2.847      -1.681\n",
      "x12            0.7404      0.269      2.749      0.006       0.211       1.270\n",
      "x13           -3.5191      0.387     -9.086      0.000      -4.281      -2.758\n",
      "==============================================================================\n",
      "Omnibus:                      141.494   Durbin-Watson:                   1.996\n",
      "Prob(Omnibus):                  0.000   Jarque-Bera (JB):              629.882\n",
      "Skew:                           1.470   Prob(JB):                    1.67e-137\n",
      "Kurtosis:                       8.365   Cond. No.                         9.75\n",
      "==============================================================================\n",
      "\n",
      "Notes:\n",
      "[1] Standard Errors assume that the covariance matrix of the errors is correctly specified.\n"
     ]
    }
   ],
   "source": [
    "print(nodcfresult.summary())"
   ]
  },
  {
   "cell_type": "code",
   "execution_count": 47,
   "id": "e44417ed",
   "metadata": {},
   "outputs": [
    {
     "data": {
      "text/html": [
       "<div>\n",
       "<style scoped>\n",
       "    .dataframe tbody tr th:only-of-type {\n",
       "        vertical-align: middle;\n",
       "    }\n",
       "\n",
       "    .dataframe tbody tr th {\n",
       "        vertical-align: top;\n",
       "    }\n",
       "\n",
       "    .dataframe thead th {\n",
       "        text-align: right;\n",
       "    }\n",
       "</style>\n",
       "<table border=\"1\" class=\"dataframe\">\n",
       "  <thead>\n",
       "    <tr style=\"text-align: right;\">\n",
       "      <th></th>\n",
       "      <th>pval_diff</th>\n",
       "      <th>causal_pval</th>\n",
       "      <th>noncausal_pval</th>\n",
       "      <th>causal_sig</th>\n",
       "      <th>noncausal_sig</th>\n",
       "      <th>causal_mean</th>\n",
       "      <th>noncausal_mean</th>\n",
       "    </tr>\n",
       "  </thead>\n",
       "  <tbody>\n",
       "    <tr>\n",
       "      <th>AGE</th>\n",
       "      <td>-0.338554</td>\n",
       "      <td>0.489131</td>\n",
       "      <td>8.276851e-01</td>\n",
       "      <td>False</td>\n",
       "      <td>False</td>\n",
       "      <td>-0.322765</td>\n",
       "      <td>-0.087855</td>\n",
       "    </tr>\n",
       "    <tr>\n",
       "      <th>INDUS</th>\n",
       "      <td>-0.116211</td>\n",
       "      <td>0.814894</td>\n",
       "      <td>9.311050e-01</td>\n",
       "      <td>False</td>\n",
       "      <td>False</td>\n",
       "      <td>-0.11206</td>\n",
       "      <td>0.037631</td>\n",
       "    </tr>\n",
       "    <tr>\n",
       "      <th>intercept</th>\n",
       "      <td>0.0</td>\n",
       "      <td>0.0</td>\n",
       "      <td>7.880479e-281</td>\n",
       "      <td>True</td>\n",
       "      <td>True</td>\n",
       "      <td>22.490449</td>\n",
       "      <td>22.480353</td>\n",
       "    </tr>\n",
       "    <tr>\n",
       "      <th>LSTAT</th>\n",
       "      <td>0.0</td>\n",
       "      <td>0.0</td>\n",
       "      <td>5.257076e-18</td>\n",
       "      <td>True</td>\n",
       "      <td>True</td>\n",
       "      <td>-3.93692</td>\n",
       "      <td>-3.519063</td>\n",
       "    </tr>\n",
       "    <tr>\n",
       "      <th>PTRATIO</th>\n",
       "      <td>0.0</td>\n",
       "      <td>0.0</td>\n",
       "      <td>1.747353e-13</td>\n",
       "      <td>True</td>\n",
       "      <td>True</td>\n",
       "      <td>-2.55</td>\n",
       "      <td>-2.264362</td>\n",
       "    </tr>\n",
       "    <tr>\n",
       "      <th>RM</th>\n",
       "      <td>0.0</td>\n",
       "      <td>0.0</td>\n",
       "      <td>6.837385e-15</td>\n",
       "      <td>True</td>\n",
       "      <td>True</td>\n",
       "      <td>3.209269</td>\n",
       "      <td>2.605803</td>\n",
       "    </tr>\n",
       "    <tr>\n",
       "      <th>DIS</th>\n",
       "      <td>0.000001</td>\n",
       "      <td>0.000001</td>\n",
       "      <td>2.771759e-10</td>\n",
       "      <td>True</td>\n",
       "      <td>True</td>\n",
       "      <td>-2.677126</td>\n",
       "      <td>-2.919351</td>\n",
       "    </tr>\n",
       "    <tr>\n",
       "      <th>NOX</th>\n",
       "      <td>0.000316</td>\n",
       "      <td>0.000467</td>\n",
       "      <td>1.503121e-04</td>\n",
       "      <td>True</td>\n",
       "      <td>True</td>\n",
       "      <td>-1.995505</td>\n",
       "      <td>-1.868366</td>\n",
       "    </tr>\n",
       "    <tr>\n",
       "      <th>ZN</th>\n",
       "      <td>0.000475</td>\n",
       "      <td>0.002536</td>\n",
       "      <td>2.060526e-03</td>\n",
       "      <td>True</td>\n",
       "      <td>True</td>\n",
       "      <td>1.342368</td>\n",
       "      <td>1.044378</td>\n",
       "    </tr>\n",
       "    <tr>\n",
       "      <th>RAD</th>\n",
       "      <td>0.001764</td>\n",
       "      <td>0.002321</td>\n",
       "      <td>5.570378e-04</td>\n",
       "      <td>True</td>\n",
       "      <td>True</td>\n",
       "      <td>2.070344</td>\n",
       "      <td>2.126124</td>\n",
       "    </tr>\n",
       "    <tr>\n",
       "      <th>TAX</th>\n",
       "      <td>0.002264</td>\n",
       "      <td>0.007325</td>\n",
       "      <td>5.061523e-03</td>\n",
       "      <td>True</td>\n",
       "      <td>True</td>\n",
       "      <td>-1.916724</td>\n",
       "      <td>-1.852162</td>\n",
       "    </tr>\n",
       "    <tr>\n",
       "      <th>CRIM</th>\n",
       "      <td>0.015436</td>\n",
       "      <td>0.016659</td>\n",
       "      <td>1.222501e-03</td>\n",
       "      <td>True</td>\n",
       "      <td>True</td>\n",
       "      <td>-1.047241</td>\n",
       "      <td>-1.027398</td>\n",
       "    </tr>\n",
       "    <tr>\n",
       "      <th>CHAS</th>\n",
       "      <td>0.025071</td>\n",
       "      <td>0.034897</td>\n",
       "      <td>9.826245e-03</td>\n",
       "      <td>True</td>\n",
       "      <td>True</td>\n",
       "      <td>0.837006</td>\n",
       "      <td>0.594550</td>\n",
       "    </tr>\n",
       "    <tr>\n",
       "      <th>B</th>\n",
       "      <td>0.098359</td>\n",
       "      <td>0.104622</td>\n",
       "      <td>6.263236e-03</td>\n",
       "      <td>False</td>\n",
       "      <td>True</td>\n",
       "      <td>0.676541</td>\n",
       "      <td>0.740411</td>\n",
       "    </tr>\n",
       "  </tbody>\n",
       "</table>\n",
       "</div>"
      ],
      "text/plain": [
       "          pval_diff causal_pval  noncausal_pval causal_sig  noncausal_sig  \\\n",
       "AGE       -0.338554    0.489131    8.276851e-01      False          False   \n",
       "INDUS     -0.116211    0.814894    9.311050e-01      False          False   \n",
       "intercept       0.0         0.0   7.880479e-281       True           True   \n",
       "LSTAT           0.0         0.0    5.257076e-18       True           True   \n",
       "PTRATIO         0.0         0.0    1.747353e-13       True           True   \n",
       "RM              0.0         0.0    6.837385e-15       True           True   \n",
       "DIS        0.000001    0.000001    2.771759e-10       True           True   \n",
       "NOX        0.000316    0.000467    1.503121e-04       True           True   \n",
       "ZN         0.000475    0.002536    2.060526e-03       True           True   \n",
       "RAD        0.001764    0.002321    5.570378e-04       True           True   \n",
       "TAX        0.002264    0.007325    5.061523e-03       True           True   \n",
       "CRIM       0.015436    0.016659    1.222501e-03       True           True   \n",
       "CHAS       0.025071    0.034897    9.826245e-03       True           True   \n",
       "B          0.098359    0.104622    6.263236e-03      False           True   \n",
       "\n",
       "          causal_mean  noncausal_mean  \n",
       "AGE         -0.322765       -0.087855  \n",
       "INDUS        -0.11206        0.037631  \n",
       "intercept   22.490449       22.480353  \n",
       "LSTAT        -3.93692       -3.519063  \n",
       "PTRATIO         -2.55       -2.264362  \n",
       "RM           3.209269        2.605803  \n",
       "DIS         -2.677126       -2.919351  \n",
       "NOX         -1.995505       -1.868366  \n",
       "ZN           1.342368        1.044378  \n",
       "RAD          2.070344        2.126124  \n",
       "TAX         -1.916724       -1.852162  \n",
       "CRIM        -1.047241       -1.027398  \n",
       "CHAS         0.837006        0.594550  \n",
       "B            0.676541        0.740411  "
      ]
     },
     "execution_count": 47,
     "metadata": {},
     "output_type": "execute_result"
    }
   ],
   "source": [
    "res_pica.sort_values(\"pval_diff\", ascending=True)[[\"pval_diff\", \"causal_pval\", \"noncausal_pval\", \"causal_sig\", \"noncausal_sig\", \"causal_mean\", \"noncausal_mean\"]]"
   ]
  },
  {
   "cell_type": "code",
   "execution_count": 48,
   "id": "2c5b9bf1",
   "metadata": {
    "scrolled": true
   },
   "outputs": [
    {
     "name": "stdout",
     "output_type": "stream",
     "text": [
      "MSE for deconfounding with PICA: 32.91805580102904\n",
      "MSE for classical linear regression without deconfounding: 33.44897999767657\n",
      "R^2 for deconfounding with PICA: 0.5957425172303032\n",
      "R^2 for classical linear regression without deconfounding: 0.5892223849182503\n"
     ]
    }
   ],
   "source": [
    "print(\"MSE for deconfounding with PICA:\", mse_pica)\n",
    "print(\"MSE for classical linear regression without deconfounding:\", mse_nodcf)\n",
    "print(\"R^2 for deconfounding with PICA:\", r2_score_pica)\n",
    "print(\"R^2 for classical linear regression without deconfounding:\", r2_score_nodcf)"
   ]
  },
  {
   "cell_type": "markdown",
   "id": "0f42c2b2",
   "metadata": {},
   "source": [
    "## DLGM\n",
    "\n",
    "We approximate with the inferred mean the random variables, $Z$, that are substitue confounders and augment the regressors into a gathered dataset."
   ]
  },
  {
   "cell_type": "code",
   "execution_count": 49,
   "id": "531c39b9",
   "metadata": {},
   "outputs": [],
   "source": [
    "dcf_dlgm_result, nodcfresult, res_dlgm, y_pred_dlgm, y_pred, mse_dlgm, mse_nodcf, r2_score_dlgm, r2_score_nodcf, y_test_dlgm = fit_causal_model_OLS(X = X, \n",
    "                                                                                                                                  dfy = dfy,\n",
    "                                                                                                                                  dfX_causal_inf = dfX,\n",
    "                                                                                                                                  z_mean = z0_mean_dlgm,\n",
    "                                                                                                                                  data_dim_causal_inf = data_dim) "
   ]
  },
  {
   "cell_type": "code",
   "execution_count": 50,
   "id": "9b26d939",
   "metadata": {},
   "outputs": [
    {
     "name": "stdout",
     "output_type": "stream",
     "text": [
      "                            OLS Regression Results                            \n",
      "==============================================================================\n",
      "Dep. Variable:                      y   R-squared:                       0.777\n",
      "Model:                            OLS   Adj. R-squared:                  0.766\n",
      "Method:                 Least Squares   F-statistic:                     74.41\n",
      "Date:                Sun, 05 Sep 2021   Prob (F-statistic):          3.34e-113\n",
      "Time:                        16:07:14   Log-Likelihood:                -1168.1\n",
      "No. Observations:                 404   AIC:                             2374.\n",
      "Df Residuals:                     385   BIC:                             2450.\n",
      "Df Model:                          18                                         \n",
      "Covariance Type:            nonrobust                                         \n",
      "==============================================================================\n",
      "                 coef    std err          t      P>|t|      [0.025      0.975]\n",
      "------------------------------------------------------------------------------\n",
      "const         22.4612      0.224    100.071      0.000      22.020      22.902\n",
      "x1            -0.9832      0.317     -3.102      0.002      -1.606      -0.360\n",
      "x2             1.0976      0.338      3.245      0.001       0.433       1.763\n",
      "x3             0.1115      0.436      0.256      0.798      -0.746       0.969\n",
      "x4             0.5430      0.231      2.347      0.019       0.088       0.998\n",
      "x5            -1.9509      0.493     -3.961      0.000      -2.919      -0.982\n",
      "x6             2.6118      0.323      8.092      0.000       1.977       3.246\n",
      "x7            -0.0956      0.404     -0.237      0.813      -0.890       0.699\n",
      "x8            -2.9707      0.451     -6.588      0.000      -3.857      -2.084\n",
      "x9             2.1032      0.612      3.439      0.001       0.901       3.306\n",
      "x10           -1.8639      0.660     -2.825      0.005      -3.161      -0.567\n",
      "x11           -2.2411      0.297     -7.542      0.000      -2.825      -1.657\n",
      "x12            0.7606      0.270      2.820      0.005       0.230       1.291\n",
      "x13           -3.4920      0.389     -8.976      0.000      -4.257      -2.727\n",
      "x14           -1.9016      1.403     -1.356      0.176      -4.659       0.856\n",
      "x15            2.1790      1.438      1.516      0.130      -0.648       5.006\n",
      "x16           -1.8777      1.408     -1.333      0.183      -4.647       0.891\n",
      "x17            1.4333      1.488      0.964      0.336      -1.491       4.358\n",
      "x18            0.3773      1.450      0.260      0.795      -2.473       3.228\n",
      "==============================================================================\n",
      "Omnibus:                      144.199   Durbin-Watson:                   1.980\n",
      "Prob(Omnibus):                  0.000   Jarque-Bera (JB):              677.341\n",
      "Skew:                           1.481   Prob(JB):                    8.27e-148\n",
      "Kurtosis:                       8.610   Cond. No.                         17.2\n",
      "==============================================================================\n",
      "\n",
      "Notes:\n",
      "[1] Standard Errors assume that the covariance matrix of the errors is correctly specified.\n"
     ]
    }
   ],
   "source": [
    "print(dcf_dlgm_result.summary())"
   ]
  },
  {
   "cell_type": "code",
   "execution_count": 51,
   "id": "31007314",
   "metadata": {},
   "outputs": [
    {
     "name": "stdout",
     "output_type": "stream",
     "text": [
      "                            OLS Regression Results                            \n",
      "==============================================================================\n",
      "Dep. Variable:                      y   R-squared:                       0.773\n",
      "Model:                            OLS   Adj. R-squared:                  0.765\n",
      "Method:                 Least Squares   F-statistic:                     102.2\n",
      "Date:                Sun, 05 Sep 2021   Prob (F-statistic):          9.64e-117\n",
      "Time:                        16:07:14   Log-Likelihood:                -1171.5\n",
      "No. Observations:                 404   AIC:                             2371.\n",
      "Df Residuals:                     390   BIC:                             2427.\n",
      "Df Model:                          13                                         \n",
      "Covariance Type:            nonrobust                                         \n",
      "==============================================================================\n",
      "                 coef    std err          t      P>|t|      [0.025      0.975]\n",
      "------------------------------------------------------------------------------\n",
      "const         22.4804      0.224    100.452      0.000      22.040      22.920\n",
      "x1            -1.0274      0.315     -3.257      0.001      -1.647      -0.407\n",
      "x2             1.0444      0.337      3.102      0.002       0.382       1.706\n",
      "x3             0.0376      0.435      0.087      0.931      -0.818       0.893\n",
      "x4             0.5946      0.229      2.595      0.010       0.144       1.045\n",
      "x5            -1.8684      0.488     -3.828      0.000      -2.828      -0.909\n",
      "x6             2.6058      0.321      8.106      0.000       1.974       3.238\n",
      "x7            -0.0879      0.403     -0.218      0.828      -0.881       0.705\n",
      "x8            -2.9194      0.451     -6.480      0.000      -3.805      -2.034\n",
      "x9             2.1261      0.611      3.481      0.001       0.925       3.327\n",
      "x10           -1.8522      0.657     -2.819      0.005      -3.144      -0.560\n",
      "x11           -2.2644      0.297     -7.636      0.000      -2.847      -1.681\n",
      "x12            0.7404      0.269      2.749      0.006       0.211       1.270\n",
      "x13           -3.5191      0.387     -9.086      0.000      -4.281      -2.758\n",
      "==============================================================================\n",
      "Omnibus:                      141.494   Durbin-Watson:                   1.996\n",
      "Prob(Omnibus):                  0.000   Jarque-Bera (JB):              629.882\n",
      "Skew:                           1.470   Prob(JB):                    1.67e-137\n",
      "Kurtosis:                       8.365   Cond. No.                         9.75\n",
      "==============================================================================\n",
      "\n",
      "Notes:\n",
      "[1] Standard Errors assume that the covariance matrix of the errors is correctly specified.\n"
     ]
    }
   ],
   "source": [
    "print(nodcfresult.summary())"
   ]
  },
  {
   "cell_type": "code",
   "execution_count": 52,
   "id": "9b71ad0e",
   "metadata": {},
   "outputs": [
    {
     "data": {
      "text/html": [
       "<div>\n",
       "<style scoped>\n",
       "    .dataframe tbody tr th:only-of-type {\n",
       "        vertical-align: middle;\n",
       "    }\n",
       "\n",
       "    .dataframe tbody tr th {\n",
       "        vertical-align: top;\n",
       "    }\n",
       "\n",
       "    .dataframe thead th {\n",
       "        text-align: right;\n",
       "    }\n",
       "</style>\n",
       "<table border=\"1\" class=\"dataframe\">\n",
       "  <thead>\n",
       "    <tr style=\"text-align: right;\">\n",
       "      <th></th>\n",
       "      <th>pval_diff</th>\n",
       "      <th>causal_pval</th>\n",
       "      <th>noncausal_pval</th>\n",
       "      <th>causal_sig</th>\n",
       "      <th>noncausal_sig</th>\n",
       "      <th>causal_mean</th>\n",
       "      <th>noncausal_mean</th>\n",
       "    </tr>\n",
       "  </thead>\n",
       "  <tbody>\n",
       "    <tr>\n",
       "      <th>INDUS</th>\n",
       "      <td>-0.132817</td>\n",
       "      <td>0.798288</td>\n",
       "      <td>9.311050e-01</td>\n",
       "      <td>False</td>\n",
       "      <td>False</td>\n",
       "      <td>0.111544</td>\n",
       "      <td>0.037631</td>\n",
       "    </tr>\n",
       "    <tr>\n",
       "      <th>AGE</th>\n",
       "      <td>-0.014664</td>\n",
       "      <td>0.813021</td>\n",
       "      <td>8.276851e-01</td>\n",
       "      <td>False</td>\n",
       "      <td>False</td>\n",
       "      <td>-0.095601</td>\n",
       "      <td>-0.087855</td>\n",
       "    </tr>\n",
       "    <tr>\n",
       "      <th>B</th>\n",
       "      <td>-0.00122</td>\n",
       "      <td>0.005044</td>\n",
       "      <td>6.263236e-03</td>\n",
       "      <td>True</td>\n",
       "      <td>True</td>\n",
       "      <td>0.760558</td>\n",
       "      <td>0.740411</td>\n",
       "    </tr>\n",
       "    <tr>\n",
       "      <th>ZN</th>\n",
       "      <td>-0.000783</td>\n",
       "      <td>0.001278</td>\n",
       "      <td>2.060526e-03</td>\n",
       "      <td>True</td>\n",
       "      <td>True</td>\n",
       "      <td>1.097626</td>\n",
       "      <td>1.044378</td>\n",
       "    </tr>\n",
       "    <tr>\n",
       "      <th>TAX</th>\n",
       "      <td>-0.000083</td>\n",
       "      <td>0.004978</td>\n",
       "      <td>5.061523e-03</td>\n",
       "      <td>True</td>\n",
       "      <td>True</td>\n",
       "      <td>-1.863895</td>\n",
       "      <td>-1.852162</td>\n",
       "    </tr>\n",
       "    <tr>\n",
       "      <th>NOX</th>\n",
       "      <td>-0.000061</td>\n",
       "      <td>0.000089</td>\n",
       "      <td>1.503121e-04</td>\n",
       "      <td>True</td>\n",
       "      <td>True</td>\n",
       "      <td>-1.950885</td>\n",
       "      <td>-1.868366</td>\n",
       "    </tr>\n",
       "    <tr>\n",
       "      <th>DIS</th>\n",
       "      <td>-0.0</td>\n",
       "      <td>0.0</td>\n",
       "      <td>2.771759e-10</td>\n",
       "      <td>True</td>\n",
       "      <td>True</td>\n",
       "      <td>-2.970707</td>\n",
       "      <td>-2.919351</td>\n",
       "    </tr>\n",
       "    <tr>\n",
       "      <th>intercept</th>\n",
       "      <td>0.0</td>\n",
       "      <td>0.0</td>\n",
       "      <td>7.880479e-281</td>\n",
       "      <td>True</td>\n",
       "      <td>True</td>\n",
       "      <td>22.461159</td>\n",
       "      <td>22.480353</td>\n",
       "    </tr>\n",
       "    <tr>\n",
       "      <th>LSTAT</th>\n",
       "      <td>0.0</td>\n",
       "      <td>0.0</td>\n",
       "      <td>5.257076e-18</td>\n",
       "      <td>True</td>\n",
       "      <td>True</td>\n",
       "      <td>-3.492013</td>\n",
       "      <td>-3.519063</td>\n",
       "    </tr>\n",
       "    <tr>\n",
       "      <th>RM</th>\n",
       "      <td>0.0</td>\n",
       "      <td>0.0</td>\n",
       "      <td>6.837385e-15</td>\n",
       "      <td>True</td>\n",
       "      <td>True</td>\n",
       "      <td>2.61182</td>\n",
       "      <td>2.605803</td>\n",
       "    </tr>\n",
       "    <tr>\n",
       "      <th>PTRATIO</th>\n",
       "      <td>0.0</td>\n",
       "      <td>0.0</td>\n",
       "      <td>1.747353e-13</td>\n",
       "      <td>True</td>\n",
       "      <td>True</td>\n",
       "      <td>-2.241073</td>\n",
       "      <td>-2.264362</td>\n",
       "    </tr>\n",
       "    <tr>\n",
       "      <th>RAD</th>\n",
       "      <td>0.00009</td>\n",
       "      <td>0.000647</td>\n",
       "      <td>5.570378e-04</td>\n",
       "      <td>True</td>\n",
       "      <td>True</td>\n",
       "      <td>2.103173</td>\n",
       "      <td>2.126124</td>\n",
       "    </tr>\n",
       "    <tr>\n",
       "      <th>CRIM</th>\n",
       "      <td>0.000839</td>\n",
       "      <td>0.002062</td>\n",
       "      <td>1.222501e-03</td>\n",
       "      <td>True</td>\n",
       "      <td>True</td>\n",
       "      <td>-0.983227</td>\n",
       "      <td>-1.027398</td>\n",
       "    </tr>\n",
       "    <tr>\n",
       "      <th>CHAS</th>\n",
       "      <td>0.009605</td>\n",
       "      <td>0.019431</td>\n",
       "      <td>9.826245e-03</td>\n",
       "      <td>True</td>\n",
       "      <td>True</td>\n",
       "      <td>0.54304</td>\n",
       "      <td>0.594550</td>\n",
       "    </tr>\n",
       "  </tbody>\n",
       "</table>\n",
       "</div>"
      ],
      "text/plain": [
       "          pval_diff causal_pval  noncausal_pval causal_sig  noncausal_sig  \\\n",
       "INDUS     -0.132817    0.798288    9.311050e-01      False          False   \n",
       "AGE       -0.014664    0.813021    8.276851e-01      False          False   \n",
       "B          -0.00122    0.005044    6.263236e-03       True           True   \n",
       "ZN        -0.000783    0.001278    2.060526e-03       True           True   \n",
       "TAX       -0.000083    0.004978    5.061523e-03       True           True   \n",
       "NOX       -0.000061    0.000089    1.503121e-04       True           True   \n",
       "DIS            -0.0         0.0    2.771759e-10       True           True   \n",
       "intercept       0.0         0.0   7.880479e-281       True           True   \n",
       "LSTAT           0.0         0.0    5.257076e-18       True           True   \n",
       "RM              0.0         0.0    6.837385e-15       True           True   \n",
       "PTRATIO         0.0         0.0    1.747353e-13       True           True   \n",
       "RAD         0.00009    0.000647    5.570378e-04       True           True   \n",
       "CRIM       0.000839    0.002062    1.222501e-03       True           True   \n",
       "CHAS       0.009605    0.019431    9.826245e-03       True           True   \n",
       "\n",
       "          causal_mean  noncausal_mean  \n",
       "INDUS        0.111544        0.037631  \n",
       "AGE         -0.095601       -0.087855  \n",
       "B            0.760558        0.740411  \n",
       "ZN           1.097626        1.044378  \n",
       "TAX         -1.863895       -1.852162  \n",
       "NOX         -1.950885       -1.868366  \n",
       "DIS         -2.970707       -2.919351  \n",
       "intercept   22.461159       22.480353  \n",
       "LSTAT       -3.492013       -3.519063  \n",
       "RM            2.61182        2.605803  \n",
       "PTRATIO     -2.241073       -2.264362  \n",
       "RAD          2.103173        2.126124  \n",
       "CRIM        -0.983227       -1.027398  \n",
       "CHAS          0.54304        0.594550  "
      ]
     },
     "execution_count": 52,
     "metadata": {},
     "output_type": "execute_result"
    }
   ],
   "source": [
    "res_dlgm.sort_values(\"pval_diff\", ascending=True)[[\"pval_diff\", \"causal_pval\", \"noncausal_pval\", \"causal_sig\", \"noncausal_sig\", \"causal_mean\", \"noncausal_mean\"]]"
   ]
  },
  {
   "cell_type": "code",
   "execution_count": 53,
   "id": "fefaa0d6",
   "metadata": {
    "scrolled": true
   },
   "outputs": [
    {
     "name": "stdout",
     "output_type": "stream",
     "text": [
      "MSE for deconfounding with DLGM: 33.210075599620204\n",
      "MSE for classical linear regression without deconfounding: 33.44897999767657\n",
      "R^2 for deconfounding with DLGM: 0.5921563033478392\n",
      "R^2 for classical linear regression without deconfounding: 0.5892223849182503\n"
     ]
    }
   ],
   "source": [
    "print(\"MSE for deconfounding with DLGM:\", mse_dlgm)\n",
    "print(\"MSE for classical linear regression without deconfounding:\", mse_nodcf)\n",
    "print(\"R^2 for deconfounding with DLGM:\", r2_score_dlgm)\n",
    "print(\"R^2 for classical linear regression without deconfounding:\", r2_score_nodcf)"
   ]
  },
  {
   "cell_type": "markdown",
   "id": "a092585b",
   "metadata": {},
   "source": [
    "## GMM\n",
    "\n",
    "We approximate with the inferred random variables, $Z$, that are substitue confounders and augment the regressors into a gathered dataset."
   ]
  },
  {
   "cell_type": "code",
   "execution_count": 54,
   "id": "e1c1b21f",
   "metadata": {},
   "outputs": [],
   "source": [
    "dcf_gmm_result, nodcfresult, res_gmm, y_pred_gmm, y_pred, mse_gmm, mse_nodcf, r2_score_gmm, r2_score_nodcf, y_test_gmm = fit_causal_model_OLS(X = X, \n",
    "                                                                                                                                  dfy = dfy,\n",
    "                                                                                                                                  dfX_causal_inf = dfX,\n",
    "                                                                                                                                  z_mean = z_post,\n",
    "                                                                                                                                  data_dim_causal_inf = data_dim) "
   ]
  },
  {
   "cell_type": "code",
   "execution_count": 55,
   "id": "23488f88",
   "metadata": {},
   "outputs": [
    {
     "name": "stdout",
     "output_type": "stream",
     "text": [
      "                            OLS Regression Results                            \n",
      "==============================================================================\n",
      "Dep. Variable:                      y   R-squared:                       0.775\n",
      "Model:                            OLS   Adj. R-squared:                  0.767\n",
      "Method:                 Least Squares   F-statistic:                     95.86\n",
      "Date:                Sun, 05 Sep 2021   Prob (F-statistic):          1.44e-116\n",
      "Time:                        16:07:14   Log-Likelihood:                -1169.4\n",
      "No. Observations:                 404   AIC:                             2369.\n",
      "Df Residuals:                     389   BIC:                             2429.\n",
      "Df Model:                          14                                         \n",
      "Covariance Type:            nonrobust                                         \n",
      "==============================================================================\n",
      "                 coef    std err          t      P>|t|      [0.025      0.975]\n",
      "------------------------------------------------------------------------------\n",
      "const         21.5001      0.543     39.616      0.000      20.433      22.567\n",
      "x1            -1.1359      0.319     -3.561      0.000      -1.763      -0.509\n",
      "x2             1.0418      0.335      3.106      0.002       0.382       1.701\n",
      "x3             0.2252      0.444      0.508      0.612      -0.647       1.097\n",
      "x4             0.4279      0.243      1.759      0.079      -0.050       0.906\n",
      "x5            -2.0447      0.494     -4.136      0.000      -3.017      -1.073\n",
      "x6             2.5820      0.321      8.056      0.000       1.952       3.212\n",
      "x7            -0.0595      0.402     -0.148      0.883      -0.850       0.731\n",
      "x8            -2.9248      0.449     -6.516      0.000      -3.807      -2.042\n",
      "x9             1.8981      0.619      3.065      0.002       0.680       3.116\n",
      "x10           -1.7265      0.658     -2.625      0.009      -3.019      -0.434\n",
      "x11           -2.2650      0.295     -7.667      0.000      -2.846      -1.684\n",
      "x12            0.8342      0.273      3.061      0.002       0.298       1.370\n",
      "x13           -3.5961      0.388     -9.272      0.000      -4.359      -2.834\n",
      "x14            0.8167      0.412      1.981      0.048       0.006       1.627\n",
      "==============================================================================\n",
      "Omnibus:                      131.515   Durbin-Watson:                   2.012\n",
      "Prob(Omnibus):                  0.000   Jarque-Bera (JB):              545.829\n",
      "Skew:                           1.380   Prob(JB):                    2.98e-119\n",
      "Kurtosis:                       7.981   Cond. No.                         9.90\n",
      "==============================================================================\n",
      "\n",
      "Notes:\n",
      "[1] Standard Errors assume that the covariance matrix of the errors is correctly specified.\n"
     ]
    }
   ],
   "source": [
    "print(dcf_gmm_result.summary())"
   ]
  },
  {
   "cell_type": "code",
   "execution_count": 56,
   "id": "4b0f7463",
   "metadata": {},
   "outputs": [
    {
     "name": "stdout",
     "output_type": "stream",
     "text": [
      "                            OLS Regression Results                            \n",
      "==============================================================================\n",
      "Dep. Variable:                      y   R-squared:                       0.773\n",
      "Model:                            OLS   Adj. R-squared:                  0.765\n",
      "Method:                 Least Squares   F-statistic:                     102.2\n",
      "Date:                Sun, 05 Sep 2021   Prob (F-statistic):          9.64e-117\n",
      "Time:                        16:07:14   Log-Likelihood:                -1171.5\n",
      "No. Observations:                 404   AIC:                             2371.\n",
      "Df Residuals:                     390   BIC:                             2427.\n",
      "Df Model:                          13                                         \n",
      "Covariance Type:            nonrobust                                         \n",
      "==============================================================================\n",
      "                 coef    std err          t      P>|t|      [0.025      0.975]\n",
      "------------------------------------------------------------------------------\n",
      "const         22.4804      0.224    100.452      0.000      22.040      22.920\n",
      "x1            -1.0274      0.315     -3.257      0.001      -1.647      -0.407\n",
      "x2             1.0444      0.337      3.102      0.002       0.382       1.706\n",
      "x3             0.0376      0.435      0.087      0.931      -0.818       0.893\n",
      "x4             0.5946      0.229      2.595      0.010       0.144       1.045\n",
      "x5            -1.8684      0.488     -3.828      0.000      -2.828      -0.909\n",
      "x6             2.6058      0.321      8.106      0.000       1.974       3.238\n",
      "x7            -0.0879      0.403     -0.218      0.828      -0.881       0.705\n",
      "x8            -2.9194      0.451     -6.480      0.000      -3.805      -2.034\n",
      "x9             2.1261      0.611      3.481      0.001       0.925       3.327\n",
      "x10           -1.8522      0.657     -2.819      0.005      -3.144      -0.560\n",
      "x11           -2.2644      0.297     -7.636      0.000      -2.847      -1.681\n",
      "x12            0.7404      0.269      2.749      0.006       0.211       1.270\n",
      "x13           -3.5191      0.387     -9.086      0.000      -4.281      -2.758\n",
      "==============================================================================\n",
      "Omnibus:                      141.494   Durbin-Watson:                   1.996\n",
      "Prob(Omnibus):                  0.000   Jarque-Bera (JB):              629.882\n",
      "Skew:                           1.470   Prob(JB):                    1.67e-137\n",
      "Kurtosis:                       8.365   Cond. No.                         9.75\n",
      "==============================================================================\n",
      "\n",
      "Notes:\n",
      "[1] Standard Errors assume that the covariance matrix of the errors is correctly specified.\n"
     ]
    }
   ],
   "source": [
    "print(nodcfresult.summary())"
   ]
  },
  {
   "cell_type": "code",
   "execution_count": 57,
   "id": "0a632976",
   "metadata": {},
   "outputs": [
    {
     "data": {
      "text/html": [
       "<div>\n",
       "<style scoped>\n",
       "    .dataframe tbody tr th:only-of-type {\n",
       "        vertical-align: middle;\n",
       "    }\n",
       "\n",
       "    .dataframe tbody tr th {\n",
       "        vertical-align: top;\n",
       "    }\n",
       "\n",
       "    .dataframe thead th {\n",
       "        text-align: right;\n",
       "    }\n",
       "</style>\n",
       "<table border=\"1\" class=\"dataframe\">\n",
       "  <thead>\n",
       "    <tr style=\"text-align: right;\">\n",
       "      <th></th>\n",
       "      <th>pval_diff</th>\n",
       "      <th>causal_pval</th>\n",
       "      <th>noncausal_pval</th>\n",
       "      <th>causal_sig</th>\n",
       "      <th>noncausal_sig</th>\n",
       "      <th>causal_mean</th>\n",
       "      <th>noncausal_mean</th>\n",
       "    </tr>\n",
       "  </thead>\n",
       "  <tbody>\n",
       "    <tr>\n",
       "      <th>INDUS</th>\n",
       "      <td>-0.319186</td>\n",
       "      <td>0.611919</td>\n",
       "      <td>9.311050e-01</td>\n",
       "      <td>False</td>\n",
       "      <td>False</td>\n",
       "      <td>0.225231</td>\n",
       "      <td>0.037631</td>\n",
       "    </tr>\n",
       "    <tr>\n",
       "      <th>B</th>\n",
       "      <td>-0.003904</td>\n",
       "      <td>0.002359</td>\n",
       "      <td>6.263236e-03</td>\n",
       "      <td>True</td>\n",
       "      <td>True</td>\n",
       "      <td>0.834168</td>\n",
       "      <td>0.740411</td>\n",
       "    </tr>\n",
       "    <tr>\n",
       "      <th>CRIM</th>\n",
       "      <td>-0.000808</td>\n",
       "      <td>0.000415</td>\n",
       "      <td>1.222501e-03</td>\n",
       "      <td>True</td>\n",
       "      <td>True</td>\n",
       "      <td>-1.135935</td>\n",
       "      <td>-1.027398</td>\n",
       "    </tr>\n",
       "    <tr>\n",
       "      <th>NOX</th>\n",
       "      <td>-0.000107</td>\n",
       "      <td>0.000043</td>\n",
       "      <td>1.503121e-04</td>\n",
       "      <td>True</td>\n",
       "      <td>True</td>\n",
       "      <td>-2.04466</td>\n",
       "      <td>-1.868366</td>\n",
       "    </tr>\n",
       "    <tr>\n",
       "      <th>ZN</th>\n",
       "      <td>-0.000026</td>\n",
       "      <td>0.002035</td>\n",
       "      <td>2.060526e-03</td>\n",
       "      <td>True</td>\n",
       "      <td>True</td>\n",
       "      <td>1.041797</td>\n",
       "      <td>1.044378</td>\n",
       "    </tr>\n",
       "    <tr>\n",
       "      <th>DIS</th>\n",
       "      <td>-0.0</td>\n",
       "      <td>0.0</td>\n",
       "      <td>2.771759e-10</td>\n",
       "      <td>True</td>\n",
       "      <td>True</td>\n",
       "      <td>-2.924753</td>\n",
       "      <td>-2.919351</td>\n",
       "    </tr>\n",
       "    <tr>\n",
       "      <th>PTRATIO</th>\n",
       "      <td>-0.0</td>\n",
       "      <td>0.0</td>\n",
       "      <td>1.747353e-13</td>\n",
       "      <td>True</td>\n",
       "      <td>True</td>\n",
       "      <td>-2.265047</td>\n",
       "      <td>-2.264362</td>\n",
       "    </tr>\n",
       "    <tr>\n",
       "      <th>LSTAT</th>\n",
       "      <td>-0.0</td>\n",
       "      <td>0.0</td>\n",
       "      <td>5.257076e-18</td>\n",
       "      <td>True</td>\n",
       "      <td>True</td>\n",
       "      <td>-3.596122</td>\n",
       "      <td>-3.519063</td>\n",
       "    </tr>\n",
       "    <tr>\n",
       "      <th>intercept</th>\n",
       "      <td>0.0</td>\n",
       "      <td>0.0</td>\n",
       "      <td>7.880479e-281</td>\n",
       "      <td>True</td>\n",
       "      <td>True</td>\n",
       "      <td>21.500086</td>\n",
       "      <td>22.480353</td>\n",
       "    </tr>\n",
       "    <tr>\n",
       "      <th>RM</th>\n",
       "      <td>0.0</td>\n",
       "      <td>0.0</td>\n",
       "      <td>6.837385e-15</td>\n",
       "      <td>True</td>\n",
       "      <td>True</td>\n",
       "      <td>2.582045</td>\n",
       "      <td>2.605803</td>\n",
       "    </tr>\n",
       "    <tr>\n",
       "      <th>RAD</th>\n",
       "      <td>0.001775</td>\n",
       "      <td>0.002332</td>\n",
       "      <td>5.570378e-04</td>\n",
       "      <td>True</td>\n",
       "      <td>True</td>\n",
       "      <td>1.898106</td>\n",
       "      <td>2.126124</td>\n",
       "    </tr>\n",
       "    <tr>\n",
       "      <th>TAX</th>\n",
       "      <td>0.003935</td>\n",
       "      <td>0.008997</td>\n",
       "      <td>5.061523e-03</td>\n",
       "      <td>True</td>\n",
       "      <td>True</td>\n",
       "      <td>-1.726505</td>\n",
       "      <td>-1.852162</td>\n",
       "    </tr>\n",
       "    <tr>\n",
       "      <th>AGE</th>\n",
       "      <td>0.054818</td>\n",
       "      <td>0.882503</td>\n",
       "      <td>8.276851e-01</td>\n",
       "      <td>False</td>\n",
       "      <td>False</td>\n",
       "      <td>-0.059467</td>\n",
       "      <td>-0.087855</td>\n",
       "    </tr>\n",
       "    <tr>\n",
       "      <th>CHAS</th>\n",
       "      <td>0.069616</td>\n",
       "      <td>0.079443</td>\n",
       "      <td>9.826245e-03</td>\n",
       "      <td>False</td>\n",
       "      <td>True</td>\n",
       "      <td>0.427858</td>\n",
       "      <td>0.594550</td>\n",
       "    </tr>\n",
       "  </tbody>\n",
       "</table>\n",
       "</div>"
      ],
      "text/plain": [
       "          pval_diff causal_pval  noncausal_pval causal_sig  noncausal_sig  \\\n",
       "INDUS     -0.319186    0.611919    9.311050e-01      False          False   \n",
       "B         -0.003904    0.002359    6.263236e-03       True           True   \n",
       "CRIM      -0.000808    0.000415    1.222501e-03       True           True   \n",
       "NOX       -0.000107    0.000043    1.503121e-04       True           True   \n",
       "ZN        -0.000026    0.002035    2.060526e-03       True           True   \n",
       "DIS            -0.0         0.0    2.771759e-10       True           True   \n",
       "PTRATIO        -0.0         0.0    1.747353e-13       True           True   \n",
       "LSTAT          -0.0         0.0    5.257076e-18       True           True   \n",
       "intercept       0.0         0.0   7.880479e-281       True           True   \n",
       "RM              0.0         0.0    6.837385e-15       True           True   \n",
       "RAD        0.001775    0.002332    5.570378e-04       True           True   \n",
       "TAX        0.003935    0.008997    5.061523e-03       True           True   \n",
       "AGE        0.054818    0.882503    8.276851e-01      False          False   \n",
       "CHAS       0.069616    0.079443    9.826245e-03      False           True   \n",
       "\n",
       "          causal_mean  noncausal_mean  \n",
       "INDUS        0.225231        0.037631  \n",
       "B            0.834168        0.740411  \n",
       "CRIM        -1.135935       -1.027398  \n",
       "NOX          -2.04466       -1.868366  \n",
       "ZN           1.041797        1.044378  \n",
       "DIS         -2.924753       -2.919351  \n",
       "PTRATIO     -2.265047       -2.264362  \n",
       "LSTAT       -3.596122       -3.519063  \n",
       "intercept   21.500086       22.480353  \n",
       "RM           2.582045        2.605803  \n",
       "RAD          1.898106        2.126124  \n",
       "TAX         -1.726505       -1.852162  \n",
       "AGE         -0.059467       -0.087855  \n",
       "CHAS         0.427858        0.594550  "
      ]
     },
     "execution_count": 57,
     "metadata": {},
     "output_type": "execute_result"
    }
   ],
   "source": [
    "res_gmm.sort_values(\"pval_diff\", ascending=True)[[\"pval_diff\", \"causal_pval\", \"noncausal_pval\", \"causal_sig\", \"noncausal_sig\", \"causal_mean\", \"noncausal_mean\"]]"
   ]
  },
  {
   "cell_type": "code",
   "execution_count": 58,
   "id": "592c4e06",
   "metadata": {
    "scrolled": true
   },
   "outputs": [
    {
     "name": "stdout",
     "output_type": "stream",
     "text": [
      "MSE for deconfounding with GMM: 32.98023341949431\n",
      "MSE for classical linear regression without deconfounding: 33.44897999767657\n",
      "R^2 for deconfounding with GMM: 0.5949789312008817\n",
      "R^2 for classical linear regression without deconfounding: 0.5892223849182503\n"
     ]
    }
   ],
   "source": [
    "print(\"MSE for deconfounding with GMM:\", mse_gmm)\n",
    "print(\"MSE for classical linear regression without deconfounding:\", mse_nodcf)\n",
    "print(\"R^2 for deconfounding with GMM:\", r2_score_gmm)\n",
    "print(\"R^2 for classical linear regression without deconfounding:\", r2_score_nodcf)"
   ]
  },
  {
   "cell_type": "markdown",
   "id": "4e0d55e9",
   "metadata": {},
   "source": [
    "## RESULTS:"
   ]
  },
  {
   "cell_type": "code",
   "execution_count": 59,
   "id": "9590c7af",
   "metadata": {},
   "outputs": [],
   "source": [
    "df_results = pd.DataFrame(columns=['MSE', 'R^2'], index=['No deconfounding', 'GMM', 'PPCA', 'PICA', 'DLGM'])"
   ]
  },
  {
   "cell_type": "code",
   "execution_count": 60,
   "id": "b5d5550c",
   "metadata": {},
   "outputs": [],
   "source": [
    "df_results.loc['No deconfounding'] = [mse_nodcf, r2_score_nodcf]\n",
    "df_results.loc['GMM'] = [mse_gmm, r2_score_gmm]\n",
    "df_results.loc['PPCA'] = [mse_ppca, r2_score_ppca]\n",
    "df_results.loc['PICA'] = [mse_pica, r2_score_pica]\n",
    "df_results.loc['DLGM'] = [mse_dlgm, r2_score_dlgm]"
   ]
  },
  {
   "cell_type": "code",
   "execution_count": 61,
   "id": "db9b4e9d",
   "metadata": {},
   "outputs": [
    {
     "data": {
      "text/html": [
       "<div>\n",
       "<style scoped>\n",
       "    .dataframe tbody tr th:only-of-type {\n",
       "        vertical-align: middle;\n",
       "    }\n",
       "\n",
       "    .dataframe tbody tr th {\n",
       "        vertical-align: top;\n",
       "    }\n",
       "\n",
       "    .dataframe thead th {\n",
       "        text-align: right;\n",
       "    }\n",
       "</style>\n",
       "<table border=\"1\" class=\"dataframe\">\n",
       "  <thead>\n",
       "    <tr style=\"text-align: right;\">\n",
       "      <th></th>\n",
       "      <th>MSE</th>\n",
       "      <th>R^2</th>\n",
       "    </tr>\n",
       "  </thead>\n",
       "  <tbody>\n",
       "    <tr>\n",
       "      <th>No deconfounding</th>\n",
       "      <td>33.44898</td>\n",
       "      <td>0.589222</td>\n",
       "    </tr>\n",
       "    <tr>\n",
       "      <th>GMM</th>\n",
       "      <td>32.980233</td>\n",
       "      <td>0.594979</td>\n",
       "    </tr>\n",
       "    <tr>\n",
       "      <th>PPCA</th>\n",
       "      <td>32.718518</td>\n",
       "      <td>0.598193</td>\n",
       "    </tr>\n",
       "    <tr>\n",
       "      <th>PICA</th>\n",
       "      <td>32.918056</td>\n",
       "      <td>0.595743</td>\n",
       "    </tr>\n",
       "    <tr>\n",
       "      <th>DLGM</th>\n",
       "      <td>33.210076</td>\n",
       "      <td>0.592156</td>\n",
       "    </tr>\n",
       "  </tbody>\n",
       "</table>\n",
       "</div>"
      ],
      "text/plain": [
       "                        MSE       R^2\n",
       "No deconfounding   33.44898  0.589222\n",
       "GMM               32.980233  0.594979\n",
       "PPCA              32.718518  0.598193\n",
       "PICA              32.918056  0.595743\n",
       "DLGM              33.210076  0.592156"
      ]
     },
     "execution_count": 61,
     "metadata": {},
     "output_type": "execute_result"
    }
   ],
   "source": [
    "df_results"
   ]
  }
 ],
 "metadata": {
  "kernelspec": {
   "display_name": "Python 3",
   "language": "python",
   "name": "python3"
  },
  "language_info": {
   "codemirror_mode": {
    "name": "ipython",
    "version": 3
   },
   "file_extension": ".py",
   "mimetype": "text/x-python",
   "name": "python",
   "nbconvert_exporter": "python",
   "pygments_lexer": "ipython3",
   "version": "3.8.8"
  }
 },
 "nbformat": 4,
 "nbformat_minor": 5
}
